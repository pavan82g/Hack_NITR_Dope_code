{
 "cells": [
  {
   "cell_type": "code",
   "execution_count": 1,
   "metadata": {},
   "outputs": [],
   "source": [
    "from random import seed\n",
    "from random import random\n",
    "from math import exp\n",
    "import numpy as np\n",
    "import pandas as pd\n",
    "import textwrap\n",
    "import timeit\n",
    "import binascii"
   ]
  },
  {
   "cell_type": "code",
   "execution_count": 2,
   "metadata": {},
   "outputs": [],
   "source": [
    "def addZeros(strr, n): \n",
    "    for i in range(n): \n",
    "        strr = \"0\" + strr \n",
    "    return strr \n",
    "\n",
    "def getXOR(a, b): \n",
    "    aLen = len(a) \n",
    "    bLen = len(b) \n",
    "\n",
    "\n",
    "    if (aLen > bLen): \n",
    "        b = addZeros(b, aLen - bLen) \n",
    "    elif (bLen > aLen): \n",
    "        a = addZeros(a, bLen - aLen) \n",
    " \n",
    "    lenn = max(aLen, bLen); \n",
    "\n",
    "    res = \"\" \n",
    "    for i in range(lenn): \n",
    "        if (a[i] == b[i]): \n",
    "            res += \"0\"\n",
    "        else: \n",
    "            res += \"1\"\n",
    "    return res "
   ]
  },
  {
   "cell_type": "code",
   "execution_count": 3,
   "metadata": {},
   "outputs": [],
   "source": [
    "def text_to_bits(text, encoding='utf-8', errors='surrogatepass'):\n",
    "    bits = bin(int(binascii.hexlify(text.encode(encoding, errors)), 16))[2:]\n",
    "    return bits.zfill(8 * ((len(bits) + 7) // 8))\n",
    "\n",
    "def text_from_bits(bits, encoding='utf-8', errors='surrogatepass'):\n",
    "    n = int(bits, 2)\n",
    "    return int2bytes(n).decode(encoding, errors)\n",
    "\n",
    "def int2bytes(i):\n",
    "    hex_string = '%x' % i\n",
    "    n = len(hex_string)\n",
    "    return binascii.unhexlify(hex_string.zfill(n + (n & 1)))"
   ]
  },
  {
   "cell_type": "code",
   "execution_count": 4,
   "metadata": {},
   "outputs": [],
   "source": [
    "#initializing the network\n",
    "def initialize_network(parameters):\n",
    "    network = list()\n",
    "    for j in range(1,len(parameters)):\n",
    "        layer = [{'weights':[random() for i in range(parameters[j-1] + 1)]} for i in range(parameters[j])]\n",
    "        network.append(layer)\n",
    "    return network"
   ]
  },
  {
   "cell_type": "code",
   "execution_count": 5,
   "metadata": {},
   "outputs": [],
   "source": [
    "# Calculate neuron activation for an input\n",
    "def activate(weights, inputs):\n",
    "    #print(inputs)\n",
    "    activation = weights[-1]\n",
    "    for i in range(len(weights)-1):\n",
    "        #print(i)\n",
    "        #print(type(weights[i]))\n",
    "        #print(type(inputs[i]))\n",
    "        activation += weights[i] * inputs[i]\n",
    "    return activation"
   ]
  },
  {
   "cell_type": "code",
   "execution_count": 6,
   "metadata": {},
   "outputs": [],
   "source": [
    "# Transfer neuron activation\n",
    "def transfer(activation):\n",
    "    return 1.0 / (1.0 + exp(-activation))"
   ]
  },
  {
   "cell_type": "code",
   "execution_count": 7,
   "metadata": {},
   "outputs": [],
   "source": [
    "# Forward propagate input to a network output\n",
    "def forward_propagate(network, row, getEncryption):\n",
    "    count = 0\n",
    "    inputs = row\n",
    "    for layer in network:\n",
    "        new_inputs = []\n",
    "        for neuron in layer:\n",
    "            activation = activate(neuron['weights'], inputs)\n",
    "            neuron['output'] = transfer(activation)\n",
    "            new_inputs.append(neuron['output'])\n",
    "        if count == 1 and getEncryption == 1:\n",
    "            print(\"io\")\n",
    "            return new_inputs\n",
    "        inputs = new_inputs\n",
    "        count += 1\n",
    "  \n",
    "    return inputs"
   ]
  },
  {
   "cell_type": "code",
   "execution_count": 8,
   "metadata": {},
   "outputs": [],
   "source": [
    "# Calculate the derivative of an neuron output\n",
    "def transfer_derivative(output):\n",
    "    return output * (1.0 - output)\n",
    "\n",
    "# Backpropagate error and store in neurons\n",
    "def backward_propagate_error(network, expected):\n",
    "    \n",
    "    for i in reversed(range(len(network))):\n",
    "        layer = network[i]\n",
    "        errors = list()\n",
    "        if i != len(network)-1:\n",
    "            for j in range(len(layer)):\n",
    "                error = 0.0\n",
    "                for neuron in network[i + 1]:\n",
    "                    error += (neuron['weights'][j] * neuron['delta'])\n",
    "                errors.append(error)\n",
    "        else:\n",
    "            for j in range(len(layer)):\n",
    "                neuron = layer[j]\n",
    "                errors.append(expected[j] - neuron['output'])\n",
    "        for j in range(len(layer)):\n",
    "            neuron = layer[j]\n",
    "            neuron['delta'] = errors[j] * transfer_derivative(neuron['output'])"
   ]
  },
  {
   "cell_type": "code",
   "execution_count": 9,
   "metadata": {},
   "outputs": [],
   "source": [
    "# Update network weights with error\n",
    "def update_weights(network, row, l_rate):\n",
    "    \n",
    "    for i in range(len(network)):\n",
    "        inputs = row[:-1]\n",
    "        if i != 0:\n",
    "            inputs = [neuron['output'] for neuron in network[i - 1]]\n",
    "        for neuron in network[i]:\n",
    "            for j in range(len(inputs)):\n",
    "                neuron['weights'][j] += l_rate * neuron['delta'] * inputs[j]\n",
    "            neuron['weights'][-1] += l_rate * neuron['delta']\n",
    "\n",
    "# Train a network for a fixed number of epochs\n",
    "def train_network(network, train, l_rate, n_epoch, n_outputs):\n",
    "    count = 1\n",
    "    for epoch in range(n_epoch):\n",
    "        sum_error = 0\n",
    "        for row in train:\n",
    "            count += 1\n",
    "            outputs = forward_propagate(network, row, 0)\n",
    "            expected = row[-1]\n",
    "            sum_error += sum([(expected[i]-outputs[i])**2 for i in range(len(expected))])\n",
    "            backward_propagate_error(network, expected)\n",
    "            update_weights(network, row, l_rate)\n",
    "        if count % 100 == 0:\n",
    "            print('> epoch=%d, lrate=%.3f, error=%.3f' % (epoch, l_rate, sum_error))\n",
    "        count += 1"
   ]
  },
  {
   "cell_type": "code",
   "execution_count": 10,
   "metadata": {},
   "outputs": [],
   "source": [
    "#batch training\n",
    "# Train a network for a fixed number of epochs\n",
    "def train_network_batch(network, train, l_rate, n_epoch, n_outputs):\n",
    "    count = 1\n",
    "    k = 0\n",
    "    batch = 10\n",
    "    for i in range(batch):\n",
    "        print('> Batch = %d' % (i+1))\n",
    "        for epoch in range(n_epoch):\n",
    "            sum_error = 0\n",
    "            for row in train[k:k+10]:\n",
    "                count += 1\n",
    "                outputs = forward_propagate(network, row, 0)\n",
    "                expected = row[-1]\n",
    "                sum_error += sum([(expected[i]-outputs[i])**2 for i in range(len(expected))])\n",
    "                backward_propagate_error(network, expected)\n",
    "                update_weights(network, row, l_rate)\n",
    "            if count % 100 == 0:\n",
    "                print('    epoch=%d, lrate=%.3f, error=%.3f' % (epoch, l_rate, sum_error))\n",
    "            count += 1\n",
    "        k += 10"
   ]
  },
  {
   "cell_type": "code",
   "execution_count": 11,
   "metadata": {},
   "outputs": [],
   "source": [
    "import string\n",
    "a = string.printable\n",
    "ascii_list = list()\n",
    "for i in a:\n",
    "    ascii_list.append(text_to_bits(i))\n",
    "encrypted = list()\n",
    "c = 1\n",
    "for i in ascii_list:\n",
    "    t = np.random.randint(2, size= 8)\n",
    "    \"\".join(map(str, t))\n",
    "    t = \"\".join([str(a) for a in t])\n",
    "    if t in encrypted or t in ascii_list:\n",
    "        flag = 1\n",
    "        while flag:\n",
    "            t = np.random.randint(2, size= 8)\n",
    "            \"\".join(map(str, t))\n",
    "            t = \"\".join([str(a) for a in t])\n",
    "            if t in encrypted or t in ascii_list:\n",
    "                flag = 1\n",
    "            else:\n",
    "                encrypted.append(t)\n",
    "                flag = 0\n",
    "    else:\n",
    "        encrypted.append(t)"
   ]
  },
  {
   "cell_type": "code",
   "execution_count": 12,
   "metadata": {},
   "outputs": [
    {
     "name": "stdout",
     "output_type": "stream",
     "text": [
      "dataset clean\n"
     ]
    }
   ],
   "source": [
    "#testing new random dataset\n",
    "flag = 1\n",
    "for i in encrypted:\n",
    "    if i in ascii_list:\n",
    "        flag = 0\n",
    "        print(\"dataset compromised\")\n",
    "        break\n",
    "l = len(encrypted)\n",
    "c = len(list( dict.fromkeys(encrypted)))\n",
    "if flag == 1 and l == c:\n",
    "    print(\"dataset clean\")"
   ]
  },
  {
   "cell_type": "code",
   "execution_count": 13,
   "metadata": {},
   "outputs": [],
   "source": [
    "count = 0\n",
    "dataset = list()\n",
    "for i in ascii_list:\n",
    "    k = list(i)\n",
    "    k = list(map(int,k))\n",
    "    j = list(encrypted[count])\n",
    "    j = list(map(int,j))\n",
    "    count += 1\n",
    "    k.append(j)\n",
    "    dataset.append(k)"
   ]
  },
  {
   "cell_type": "markdown",
   "metadata": {},
   "source": [
    "# Testing data creation for 7 bit data"
   ]
  },
  {
   "cell_type": "code",
   "execution_count": 593,
   "metadata": {},
   "outputs": [],
   "source": [
    "a = string.printable\n",
    "ascii_list = list()\n",
    "for i in a:\n",
    "    j = text_to_bits(i)\n",
    "    ascii_list.append(j[1:])\n",
    "encrypted = list()\n",
    "c = 1\n",
    "for i in ascii_list:\n",
    "    t = np.random.randint(2, size= 7)\n",
    "    \"\".join(map(str, t))\n",
    "    t = \"\".join([str(a) for a in t])\n",
    "    if t in encrypted or t == i:\n",
    "        flag = 1\n",
    "        while flag:\n",
    "            t = np.random.randint(2, size= 7)\n",
    "            \"\".join(map(str, t))\n",
    "            t = \"\".join([str(a) for a in t])\n",
    "            if t in encrypted or t == i:\n",
    "                flag = 1\n",
    "            else:\n",
    "                encrypted.append(t)\n",
    "                flag = 0\n",
    "    else:\n",
    "        encrypted.append(t)"
   ]
  },
  {
   "cell_type": "code",
   "execution_count": 599,
   "metadata": {},
   "outputs": [
    {
     "name": "stdout",
     "output_type": "stream",
     "text": [
      "dataset clean\n"
     ]
    }
   ],
   "source": [
    "#testing new random dataset\n",
    "flag = 1\n",
    "l = len(encrypted)\n",
    "c = len(list( dict.fromkeys(encrypted)))\n",
    "if flag == 1 and l == c:\n",
    "    print(\"dataset clean\")"
   ]
  },
  {
   "cell_type": "code",
   "execution_count": 600,
   "metadata": {},
   "outputs": [],
   "source": [
    "count = 0\n",
    "dataset = list()\n",
    "for i in ascii_list:\n",
    "    k = list(i)\n",
    "    k = list(map(int,k))\n",
    "    j = list(encrypted[count])\n",
    "    j = list(map(int,j))\n",
    "    count += 1\n",
    "    k.append(j)\n",
    "    dataset.append(k)"
   ]
  },
  {
   "cell_type": "markdown",
   "metadata": {},
   "source": [
    "# Test data creation ended"
   ]
  },
  {
   "cell_type": "code",
   "execution_count": 608,
   "metadata": {},
   "outputs": [],
   "source": [
    "seed(1)\n",
    "network = initialize_network([7,16,16,7])\n"
   ]
  },
  {
   "cell_type": "code",
   "execution_count": 609,
   "metadata": {
    "scrolled": true
   },
   "outputs": [
    {
     "name": "stdout",
     "output_type": "stream",
     "text": [
      "> epoch=99, lrate=0.500, error=207.751\n",
      "> epoch=199, lrate=0.500, error=163.068\n",
      "> epoch=299, lrate=0.500, error=106.988\n",
      "> epoch=399, lrate=0.500, error=57.451\n",
      "> epoch=499, lrate=0.500, error=37.579\n",
      "> epoch=599, lrate=0.500, error=30.401\n",
      "> epoch=699, lrate=0.500, error=24.469\n",
      "> epoch=799, lrate=0.500, error=20.049\n",
      "> epoch=899, lrate=0.500, error=18.344\n",
      "> epoch=999, lrate=0.500, error=17.572\n",
      "> epoch=1099, lrate=0.500, error=17.225\n",
      "> epoch=1199, lrate=0.500, error=16.976\n",
      "> epoch=1299, lrate=0.500, error=17.204\n",
      "> epoch=1399, lrate=0.500, error=17.257\n",
      "> epoch=1499, lrate=0.500, error=19.684\n",
      "> epoch=1599, lrate=0.500, error=16.644\n",
      "> epoch=1699, lrate=0.500, error=16.534\n",
      "> epoch=1799, lrate=0.500, error=16.445\n",
      "> epoch=1899, lrate=0.500, error=16.406\n",
      "> epoch=1999, lrate=0.500, error=16.365\n",
      "> epoch=2099, lrate=0.500, error=16.337\n",
      "> epoch=2199, lrate=0.500, error=16.313\n",
      "> epoch=2299, lrate=0.500, error=16.292\n",
      "> epoch=2399, lrate=0.500, error=16.274\n",
      "> epoch=2499, lrate=0.500, error=16.258\n",
      "> epoch=2599, lrate=0.500, error=16.244\n",
      "> epoch=2699, lrate=0.500, error=16.232\n",
      "> epoch=2799, lrate=0.500, error=16.221\n",
      "> epoch=2899, lrate=0.500, error=16.210\n",
      "> epoch=2999, lrate=0.500, error=16.201\n",
      "> epoch=3099, lrate=0.500, error=16.192\n",
      "> epoch=3199, lrate=0.500, error=16.184\n",
      "> epoch=3299, lrate=0.500, error=16.177\n",
      "> epoch=3399, lrate=0.500, error=16.170\n",
      "> epoch=3499, lrate=0.500, error=16.164\n",
      "> epoch=3599, lrate=0.500, error=16.158\n",
      "> epoch=3699, lrate=0.500, error=16.152\n",
      "> epoch=3799, lrate=0.500, error=16.147\n",
      "> epoch=3899, lrate=0.500, error=16.142\n",
      "> epoch=3999, lrate=0.500, error=16.138\n",
      "> epoch=4099, lrate=0.500, error=16.133\n",
      "> epoch=4199, lrate=0.500, error=16.129\n",
      "> epoch=4299, lrate=0.500, error=16.125\n",
      "> epoch=4399, lrate=0.500, error=16.122\n",
      "> epoch=4499, lrate=0.500, error=16.118\n",
      "> epoch=4599, lrate=0.500, error=16.115\n",
      "> epoch=4699, lrate=0.500, error=16.112\n",
      "> epoch=4799, lrate=0.500, error=16.109\n",
      "> epoch=4899, lrate=0.500, error=16.106\n",
      "> epoch=4999, lrate=0.500, error=16.104\n",
      "> epoch=5099, lrate=0.500, error=16.101\n",
      "> epoch=5199, lrate=0.500, error=16.099\n",
      "> epoch=5299, lrate=0.500, error=16.096\n",
      "> epoch=5399, lrate=0.500, error=16.094\n",
      "> epoch=5499, lrate=0.500, error=16.092\n",
      "> epoch=5599, lrate=0.500, error=16.090\n",
      "> epoch=5699, lrate=0.500, error=16.088\n",
      "> epoch=5799, lrate=0.500, error=16.086\n",
      "> epoch=5899, lrate=0.500, error=16.085\n",
      "> epoch=5999, lrate=0.500, error=16.083\n",
      "> epoch=6099, lrate=0.500, error=16.081\n",
      "> epoch=6199, lrate=0.500, error=16.080\n",
      "> epoch=6299, lrate=0.500, error=16.078\n",
      "> epoch=6399, lrate=0.500, error=16.077\n",
      "> epoch=6499, lrate=0.500, error=16.075\n",
      "> epoch=6599, lrate=0.500, error=16.074\n",
      "> epoch=6699, lrate=0.500, error=16.073\n",
      "> epoch=6799, lrate=0.500, error=16.071\n",
      "> epoch=6899, lrate=0.500, error=16.070\n",
      "> epoch=6999, lrate=0.500, error=16.069\n",
      "> epoch=7099, lrate=0.500, error=16.068\n",
      "> epoch=7199, lrate=0.500, error=16.067\n",
      "> epoch=7299, lrate=0.500, error=16.066\n",
      "> epoch=7399, lrate=0.500, error=16.065\n",
      "> epoch=7499, lrate=0.500, error=16.064\n",
      "> epoch=7599, lrate=0.500, error=16.063\n",
      "> epoch=7699, lrate=0.500, error=16.062\n",
      "> epoch=7799, lrate=0.500, error=16.061\n",
      "> epoch=7899, lrate=0.500, error=16.060\n",
      "> epoch=7999, lrate=0.500, error=16.059\n",
      "> epoch=8099, lrate=0.500, error=16.058\n",
      "> epoch=8199, lrate=0.500, error=16.057\n",
      "> epoch=8299, lrate=0.500, error=16.056\n",
      "> epoch=8399, lrate=0.500, error=16.056\n",
      "> epoch=8499, lrate=0.500, error=16.055\n",
      "> epoch=8599, lrate=0.500, error=16.054\n",
      "> epoch=8699, lrate=0.500, error=16.053\n",
      "> epoch=8799, lrate=0.500, error=16.053\n",
      "> epoch=8899, lrate=0.500, error=16.052\n",
      "> epoch=8999, lrate=0.500, error=16.051\n",
      "> epoch=9099, lrate=0.500, error=16.051\n",
      "> epoch=9199, lrate=0.500, error=16.050\n",
      "> epoch=9299, lrate=0.500, error=16.050\n",
      "> epoch=9399, lrate=0.500, error=16.049\n",
      "> epoch=9499, lrate=0.500, error=16.048\n",
      "> epoch=9599, lrate=0.500, error=16.048\n",
      "> epoch=9699, lrate=0.500, error=16.047\n",
      "> epoch=9799, lrate=0.500, error=16.047\n",
      "> epoch=9899, lrate=0.500, error=16.046\n",
      "> epoch=9999, lrate=0.500, error=16.046\n",
      "time = 263.29116092399636\n"
     ]
    }
   ],
   "source": [
    "n_inputs = len(dataset[0]) - 1\n",
    "n_outputs = len(dataset[0][-1])\n",
    "start = timeit.default_timer()\n",
    "train_network(network, dataset, 0.5, 10000, n_outputs)\n",
    "stop = timeit.default_timer()\n",
    "print(\"time = {}\".format(stop - start))"
   ]
  },
  {
   "cell_type": "raw",
   "metadata": {},
   "source": [
    "n_inputs = len(dataset[0]) - 1\n",
    "n_outputs = len(dataset[0][-1])\n",
    "start = timeit.default_timer()\n",
    "train_network_batch(network, dataset, 0.75, 10000, n_outputs)\n",
    "stop = timeit.default_timer()\n",
    "print(\"time = {}\".format(stop - start))"
   ]
  },
  {
   "cell_type": "code",
   "execution_count": 21,
   "metadata": {},
   "outputs": [],
   "source": [
    "# Make a prediction with a network\n",
    "def predict(network, row, encr):\n",
    "    outputs = forward_propagate(new_network, row, encr)\n",
    "    k = [round(i) for i in outputs]\n",
    "    return k"
   ]
  },
  {
   "cell_type": "code",
   "execution_count": 681,
   "metadata": {},
   "outputs": [],
   "source": [
    "k = list()\n",
    "for i in range(100):\n",
    "    k.append(predict(network, dataset[i], 0))\n",
    "    k[i].append(dataset[i][:-1])"
   ]
  },
  {
   "cell_type": "code",
   "execution_count": 682,
   "metadata": {
    "scrolled": true
   },
   "outputs": [
    {
     "data": {
      "text/plain": [
       "[[1, 1, 0, 1, 1, 1, 0, 1, [0, 0, 1, 1, 0, 0, 0, 0]],\n",
       " [1, 1, 0, 0, 1, 1, 1, 0, [0, 0, 1, 1, 0, 0, 0, 1]],\n",
       " [1, 1, 0, 0, 0, 1, 1, 0, [0, 0, 1, 1, 0, 0, 1, 0]],\n",
       " [1, 0, 1, 1, 1, 1, 1, 0, [0, 0, 1, 1, 0, 0, 1, 1]],\n",
       " [1, 0, 1, 0, 0, 1, 1, 0, [0, 0, 1, 1, 0, 1, 0, 0]],\n",
       " [0, 0, 0, 0, 0, 1, 1, 0, [0, 0, 1, 1, 0, 1, 0, 1]],\n",
       " [1, 0, 0, 1, 0, 1, 1, 0, [0, 0, 1, 1, 0, 1, 1, 0]],\n",
       " [1, 0, 0, 0, 0, 1, 1, 0, [0, 0, 1, 1, 0, 1, 1, 1]],\n",
       " [1, 1, 0, 0, 1, 0, 1, 0, [0, 0, 1, 1, 1, 0, 0, 0]],\n",
       " [0, 0, 0, 1, 1, 1, 0, 0, [0, 0, 1, 1, 1, 0, 0, 1]],\n",
       " [1, 0, 1, 0, 1, 0, 1, 0, [0, 1, 1, 0, 0, 0, 0, 1]],\n",
       " [1, 0, 0, 1, 0, 1, 1, 1, [0, 1, 1, 0, 0, 0, 1, 0]],\n",
       " [1, 0, 0, 0, 1, 1, 0, 1, [0, 1, 1, 0, 0, 0, 1, 1]],\n",
       " [1, 0, 1, 1, 0, 1, 0, 0, [0, 1, 1, 0, 0, 1, 0, 0]],\n",
       " [1, 0, 0, 1, 1, 0, 0, 1, [0, 1, 1, 0, 0, 1, 0, 1]],\n",
       " [1, 0, 0, 0, 0, 0, 1, 1, [0, 1, 1, 0, 0, 1, 1, 0]],\n",
       " [1, 0, 0, 1, 1, 1, 0, 0, [0, 1, 1, 0, 0, 1, 1, 1]],\n",
       " [1, 1, 0, 1, 1, 1, 0, 0, [0, 1, 1, 0, 1, 0, 0, 0]],\n",
       " [1, 0, 1, 0, 0, 0, 0, 1, [0, 1, 1, 0, 1, 0, 0, 1]],\n",
       " [1, 0, 0, 0, 0, 0, 0, 0, [0, 1, 1, 0, 1, 0, 1, 0]],\n",
       " [1, 1, 0, 1, 0, 0, 1, 0, [0, 1, 1, 0, 1, 0, 1, 1]],\n",
       " [1, 1, 1, 1, 0, 1, 0, 1, [0, 1, 1, 0, 1, 1, 0, 0]],\n",
       " [1, 1, 0, 1, 0, 1, 0, 1, [0, 1, 1, 0, 1, 1, 0, 1]],\n",
       " [0, 0, 0, 1, 1, 0, 0, 0, [0, 1, 1, 0, 1, 1, 1, 0]],\n",
       " [1, 1, 0, 1, 0, 0, 0, 1, [0, 1, 1, 0, 1, 1, 1, 1]],\n",
       " [1, 0, 1, 1, 1, 1, 1, 1, [0, 1, 1, 1, 0, 0, 0, 0]],\n",
       " [1, 1, 1, 1, 0, 0, 0, 1, [0, 1, 1, 1, 0, 0, 0, 1]],\n",
       " [1, 0, 0, 1, 0, 1, 0, 1, [0, 1, 1, 1, 0, 0, 1, 0]],\n",
       " [0, 0, 0, 1, 0, 1, 1, 0, [0, 1, 1, 1, 0, 0, 1, 1]],\n",
       " [1, 1, 1, 0, 0, 1, 1, 0, [0, 1, 1, 1, 0, 1, 0, 0]],\n",
       " [1, 1, 1, 1, 1, 1, 0, 1, [0, 1, 1, 1, 0, 1, 0, 1]],\n",
       " [1, 0, 1, 1, 1, 0, 0, 0, [0, 1, 1, 1, 0, 1, 1, 0]],\n",
       " [1, 0, 1, 1, 0, 1, 0, 1, [0, 1, 1, 1, 0, 1, 1, 1]],\n",
       " [1, 1, 1, 0, 0, 0, 0, 1, [0, 1, 1, 1, 1, 0, 0, 0]],\n",
       " [1, 0, 0, 1, 1, 0, 0, 0, [0, 1, 1, 1, 1, 0, 0, 1]],\n",
       " [1, 0, 0, 0, 1, 1, 0, 0, [0, 1, 1, 1, 1, 0, 1, 0]],\n",
       " [0, 0, 0, 0, 1, 0, 1, 0, [0, 1, 0, 0, 0, 0, 0, 1]],\n",
       " [0, 1, 1, 1, 1, 1, 1, 1, [0, 1, 0, 0, 0, 0, 1, 0]],\n",
       " [1, 0, 0, 0, 1, 1, 1, 0, [0, 1, 0, 0, 0, 0, 1, 1]],\n",
       " [1, 1, 1, 1, 1, 0, 1, 0, [0, 1, 0, 0, 0, 1, 0, 0]],\n",
       " [0, 0, 0, 0, 1, 1, 1, 0, [0, 1, 0, 0, 0, 1, 0, 1]],\n",
       " [1, 1, 1, 1, 1, 0, 0, 0, [0, 1, 0, 0, 0, 1, 1, 0]],\n",
       " [1, 0, 0, 0, 1, 0, 0, 0, [0, 1, 0, 0, 0, 1, 1, 1]],\n",
       " [0, 0, 0, 0, 0, 0, 0, 1, [0, 1, 0, 0, 1, 0, 0, 0]],\n",
       " [1, 1, 0, 0, 0, 1, 0, 0, [0, 1, 0, 0, 1, 0, 0, 1]],\n",
       " [0, 0, 0, 0, 1, 1, 1, 1, [0, 1, 0, 0, 1, 0, 1, 0]],\n",
       " [1, 0, 1, 0, 1, 0, 0, 0, [0, 1, 0, 0, 1, 0, 1, 1]],\n",
       " [1, 1, 0, 1, 0, 1, 1, 1, [0, 1, 0, 0, 1, 1, 0, 0]],\n",
       " [1, 1, 0, 1, 1, 0, 0, 1, [0, 1, 0, 0, 1, 1, 0, 1]],\n",
       " [1, 1, 1, 0, 0, 0, 0, 0, [0, 1, 0, 0, 1, 1, 1, 0]],\n",
       " [0, 0, 0, 1, 0, 1, 0, 1, [0, 1, 0, 0, 1, 1, 1, 1]],\n",
       " [1, 1, 0, 0, 1, 0, 0, 0, [0, 1, 0, 1, 0, 0, 0, 0]],\n",
       " [1, 1, 0, 0, 1, 1, 0, 1, [0, 1, 0, 1, 0, 0, 0, 1]],\n",
       " [1, 0, 1, 1, 1, 0, 1, 0, [0, 1, 0, 1, 0, 0, 1, 0]],\n",
       " [1, 0, 0, 1, 0, 0, 0, 0, [0, 1, 0, 1, 0, 0, 1, 1]],\n",
       " [1, 0, 1, 1, 1, 1, 0, 1, [0, 1, 0, 1, 0, 1, 0, 0]],\n",
       " [1, 1, 1, 1, 0, 0, 1, 1, [0, 1, 0, 1, 0, 1, 0, 1]],\n",
       " [1, 0, 1, 1, 1, 1, 0, 0, [0, 1, 0, 1, 0, 1, 1, 0]],\n",
       " [1, 1, 0, 1, 0, 1, 1, 0, [0, 1, 0, 1, 0, 1, 1, 1]],\n",
       " [1, 1, 1, 0, 1, 0, 1, 0, [0, 1, 0, 1, 1, 0, 0, 0]],\n",
       " [0, 0, 0, 1, 1, 1, 0, 1, [0, 1, 0, 1, 1, 0, 0, 1]],\n",
       " [1, 1, 0, 1, 1, 0, 1, 1, [0, 1, 0, 1, 1, 0, 1, 0]],\n",
       " [1, 1, 0, 1, 1, 0, 1, 0, [0, 0, 1, 0, 0, 0, 0, 1]],\n",
       " [0, 0, 0, 1, 0, 1, 0, 0, [0, 0, 1, 0, 0, 0, 1, 0]],\n",
       " [1, 0, 1, 0, 0, 1, 0, 0, [0, 0, 1, 0, 0, 0, 1, 1]],\n",
       " [0, 0, 0, 0, 0, 0, 0, 0, [0, 0, 1, 0, 0, 1, 0, 0]],\n",
       " [1, 0, 0, 0, 1, 0, 1, 1, [0, 0, 1, 0, 0, 1, 0, 1]],\n",
       " [1, 1, 0, 0, 1, 0, 1, 1, [0, 0, 1, 0, 0, 1, 1, 0]],\n",
       " [1, 1, 1, 1, 0, 1, 1, 0, [0, 0, 1, 0, 0, 1, 1, 1]],\n",
       " [0, 0, 0, 0, 0, 0, 1, 0, [0, 0, 1, 0, 1, 0, 0, 0]],\n",
       " [1, 1, 1, 0, 1, 0, 0, 0, [0, 0, 1, 0, 1, 0, 0, 1]],\n",
       " [1, 0, 1, 0, 1, 0, 0, 1, [0, 0, 1, 0, 1, 0, 1, 0]],\n",
       " [1, 1, 1, 0, 0, 0, 1, 1, [0, 0, 1, 0, 1, 0, 1, 1]],\n",
       " [1, 1, 0, 1, 0, 1, 0, 0, [0, 0, 1, 0, 1, 1, 0, 0]],\n",
       " [1, 0, 1, 0, 0, 0, 0, 0, [0, 0, 1, 0, 1, 1, 0, 1]],\n",
       " [0, 0, 0, 1, 0, 0, 1, 1, [0, 0, 1, 0, 1, 1, 1, 0]],\n",
       " [1, 1, 1, 1, 0, 0, 1, 0, [0, 0, 1, 0, 1, 1, 1, 1]],\n",
       " [1, 0, 0, 0, 0, 1, 1, 1, [0, 0, 1, 1, 1, 0, 1, 0]],\n",
       " [1, 0, 1, 1, 0, 0, 1, 0, [0, 0, 1, 1, 1, 0, 1, 1]],\n",
       " [1, 1, 1, 0, 0, 0, 1, 0, [0, 0, 1, 1, 1, 1, 0, 0]],\n",
       " [1, 1, 0, 0, 1, 1, 1, 1, [0, 0, 1, 1, 1, 1, 0, 1]],\n",
       " [0, 0, 0, 1, 1, 1, 1, 1, [0, 0, 1, 1, 1, 1, 1, 0]],\n",
       " [1, 1, 1, 0, 1, 0, 1, 1, [0, 0, 1, 1, 1, 1, 1, 1]],\n",
       " [1, 1, 0, 0, 0, 0, 1, 1, [0, 1, 0, 0, 0, 0, 0, 0]],\n",
       " [1, 1, 0, 1, 1, 1, 1, 1, [0, 1, 0, 1, 1, 0, 1, 1]],\n",
       " [1, 1, 0, 0, 0, 0, 1, 0, [0, 1, 0, 1, 1, 1, 0, 0]],\n",
       " [1, 0, 0, 0, 1, 1, 1, 1, [0, 1, 0, 1, 1, 1, 0, 1]],\n",
       " [1, 1, 0, 1, 1, 0, 0, 0, [0, 1, 0, 1, 1, 1, 1, 0]],\n",
       " [1, 1, 0, 0, 0, 0, 0, 0, [0, 1, 0, 1, 1, 1, 1, 1]],\n",
       " [1, 1, 0, 0, 1, 0, 0, 1, [0, 1, 1, 0, 0, 0, 0, 0]],\n",
       " [1, 1, 0, 1, 1, 1, 1, 0, [0, 1, 1, 1, 1, 0, 1, 1]],\n",
       " [1, 1, 1, 0, 0, 1, 0, 0, [0, 1, 1, 1, 1, 1, 0, 0]],\n",
       " [0, 0, 0, 1, 1, 1, 1, 0, [0, 1, 1, 1, 1, 1, 0, 1]],\n",
       " [1, 0, 1, 1, 0, 0, 1, 1, [0, 1, 1, 1, 1, 1, 1, 0]],\n",
       " [1, 1, 1, 0, 0, 1, 1, 1, [0, 0, 1, 0, 0, 0, 0, 0]],\n",
       " [1, 1, 1, 1, 1, 1, 0, 0, [0, 0, 0, 0, 1, 0, 0, 1]],\n",
       " [1, 0, 1, 1, 0, 1, 1, 1, [0, 0, 0, 0, 1, 0, 1, 0]],\n",
       " [1, 0, 0, 0, 1, 0, 1, 0, [0, 0, 0, 0, 1, 1, 0, 1]],\n",
       " [1, 0, 1, 0, 0, 0, 1, 0, [0, 0, 0, 0, 1, 0, 1, 1]],\n",
       " [0, 0, 0, 0, 0, 0, 1, 1, [0, 0, 0, 0, 1, 1, 0, 0]]]"
      ]
     },
     "execution_count": 682,
     "metadata": {},
     "output_type": "execute_result"
    }
   ],
   "source": [
    "k"
   ]
  },
  {
   "cell_type": "code",
   "execution_count": 611,
   "metadata": {},
   "outputs": [],
   "source": [
    "\n",
    "c = list()\n",
    "for i in k:\n",
    "    s = \"\"\n",
    "    i = list(map(str,i))\n",
    "    c.append(s.join(i))"
   ]
  },
  {
   "cell_type": "code",
   "execution_count": 612,
   "metadata": {},
   "outputs": [
    {
     "data": {
      "text/plain": [
       "87"
      ]
     },
     "execution_count": 612,
     "metadata": {},
     "output_type": "execute_result"
    }
   ],
   "source": [
    "len(list( dict.fromkeys(c)))"
   ]
  },
  {
   "cell_type": "code",
   "execution_count": 649,
   "metadata": {
    "scrolled": true
   },
   "outputs": [
    {
     "data": {
      "text/plain": [
       "[[0, 0, 1, 1, 0, 0, 1, [0, 1, 1, 0, 0, 0, 0]],\n",
       " [0, 0, 0, 0, 0, 0, 0, [0, 1, 1, 0, 0, 0, 1]],\n",
       " [1, 1, 0, 0, 0, 0, 0, [0, 1, 1, 0, 0, 1, 0]],\n",
       " [1, 0, 1, 1, 1, 1, 0, [0, 1, 1, 0, 0, 1, 1]],\n",
       " [0, 0, 1, 0, 0, 1, 0, [0, 1, 1, 0, 1, 0, 0]],\n",
       " [0, 0, 1, 0, 1, 0, 1, [0, 1, 1, 0, 1, 0, 1]],\n",
       " [1, 0, 0, 0, 0, 0, 1, [0, 1, 1, 0, 1, 1, 0]],\n",
       " [1, 0, 0, 1, 1, 1, 1, [0, 1, 1, 0, 1, 1, 1]],\n",
       " [0, 1, 1, 1, 1, 0, 1, [0, 1, 1, 1, 0, 0, 0]],\n",
       " [1, 0, 1, 1, 1, 0, 0, [0, 1, 1, 1, 0, 0, 1]],\n",
       " [0, 1, 0, 0, 1, 0, 1, [1, 1, 0, 0, 0, 0, 1]],\n",
       " [0, 1, 0, 1, 1, 1, 0, [1, 1, 0, 0, 0, 1, 0]],\n",
       " [0, 1, 0, 1, 1, 1, 1, [1, 1, 0, 0, 0, 1, 1]],\n",
       " [1, 0, 1, 0, 1, 1, 0, [1, 1, 0, 0, 1, 0, 0]],\n",
       " [1, 1, 1, 0, 0, 0, 1, [1, 1, 0, 0, 1, 0, 1]],\n",
       " [1, 0, 0, 0, 1, 1, 0, [1, 1, 0, 0, 1, 1, 0]],\n",
       " [1, 0, 1, 1, 0, 0, 0, [1, 1, 0, 0, 1, 1, 1]],\n",
       " [0, 1, 0, 1, 1, 0, 1, [1, 1, 0, 1, 0, 0, 0]],\n",
       " [0, 1, 1, 1, 0, 1, 1, [1, 1, 0, 1, 0, 0, 1]],\n",
       " [0, 1, 1, 1, 0, 1, 1, [1, 1, 0, 1, 0, 1, 0]],\n",
       " [0, 1, 0, 1, 1, 0, 0, [1, 1, 0, 1, 0, 1, 1]],\n",
       " [1, 0, 1, 0, 0, 1, 1, [1, 1, 0, 1, 1, 0, 0]],\n",
       " [1, 1, 0, 1, 0, 1, 0, [1, 1, 0, 1, 1, 0, 1]],\n",
       " [0, 0, 1, 1, 0, 0, 0, [1, 1, 0, 1, 1, 1, 0]],\n",
       " [0, 0, 0, 0, 0, 0, 0, [1, 1, 0, 1, 1, 1, 1]],\n",
       " [1, 0, 0, 1, 0, 1, 1, [1, 1, 1, 0, 0, 0, 0]],\n",
       " [0, 0, 0, 0, 0, 1, 1, [1, 1, 1, 0, 0, 0, 1]],\n",
       " [1, 0, 0, 1, 0, 0, 0, [1, 1, 1, 0, 0, 1, 0]],\n",
       " [1, 0, 1, 1, 0, 0, 1, [1, 1, 1, 0, 0, 1, 1]],\n",
       " [1, 0, 0, 1, 1, 0, 0, [1, 1, 1, 0, 1, 0, 0]],\n",
       " [0, 0, 1, 0, 0, 0, 0, [1, 1, 1, 0, 1, 0, 1]],\n",
       " [0, 0, 0, 1, 0, 1, 0, [1, 1, 1, 0, 1, 1, 0]],\n",
       " [1, 0, 1, 0, 0, 0, 0, [1, 1, 1, 0, 1, 1, 1]],\n",
       " [0, 0, 0, 1, 0, 0, 1, [1, 1, 1, 1, 0, 0, 0]],\n",
       " [0, 1, 1, 1, 0, 0, 1, [1, 1, 1, 1, 0, 0, 1]],\n",
       " [1, 0, 1, 1, 0, 1, 0, [1, 1, 1, 1, 0, 1, 0]],\n",
       " [0, 1, 1, 0, 1, 1, 0, [1, 0, 0, 0, 0, 0, 1]],\n",
       " [0, 0, 0, 0, 1, 1, 0, [1, 0, 0, 0, 0, 1, 0]],\n",
       " [1, 0, 0, 0, 1, 0, 0, [1, 0, 0, 0, 0, 1, 1]],\n",
       " [0, 0, 0, 1, 1, 0, 1, [1, 0, 0, 0, 1, 0, 0]],\n",
       " [1, 0, 0, 0, 0, 1, 1, [1, 0, 0, 0, 1, 0, 1]],\n",
       " [0, 0, 0, 1, 1, 1, 1, [1, 0, 0, 0, 1, 1, 0]],\n",
       " [0, 1, 0, 0, 0, 1, 1, [1, 0, 0, 0, 1, 1, 1]],\n",
       " [1, 0, 1, 1, 1, 0, 1, [1, 0, 0, 1, 0, 0, 0]],\n",
       " [0, 0, 1, 1, 0, 1, 0, [1, 0, 0, 1, 0, 0, 1]],\n",
       " [0, 1, 0, 0, 1, 1, 0, [1, 0, 0, 1, 0, 1, 0]],\n",
       " [1, 0, 0, 0, 1, 1, 0, [1, 0, 0, 1, 0, 1, 1]],\n",
       " [0, 0, 1, 1, 1, 0, 0, [1, 0, 0, 1, 1, 0, 0]],\n",
       " [0, 0, 1, 0, 1, 1, 0, [1, 0, 0, 1, 1, 0, 1]],\n",
       " [1, 1, 1, 1, 1, 0, 1, [1, 0, 0, 1, 1, 1, 0]],\n",
       " [1, 0, 0, 1, 0, 0, 1, [1, 0, 0, 1, 1, 1, 1]],\n",
       " [0, 0, 0, 1, 0, 1, 1, [1, 0, 1, 0, 0, 0, 0]],\n",
       " [1, 0, 1, 1, 0, 1, 1, [1, 0, 1, 0, 0, 0, 1]],\n",
       " [0, 0, 1, 0, 1, 1, 1, [1, 0, 1, 0, 0, 1, 0]],\n",
       " [0, 1, 1, 0, 0, 0, 1, [1, 0, 1, 0, 0, 1, 1]],\n",
       " [1, 0, 1, 0, 0, 0, 1, [1, 0, 1, 0, 1, 0, 0]],\n",
       " [1, 1, 0, 1, 0, 0, 1, [1, 0, 1, 0, 1, 0, 1]],\n",
       " [1, 1, 0, 0, 1, 0, 1, [1, 0, 1, 0, 1, 1, 0]],\n",
       " [1, 1, 1, 1, 1, 0, 1, [1, 0, 1, 0, 1, 1, 1]],\n",
       " [1, 0, 1, 0, 1, 0, 0, [1, 0, 1, 1, 0, 0, 0]],\n",
       " [1, 1, 1, 1, 0, 1, 0, [1, 0, 1, 1, 0, 0, 1]],\n",
       " [1, 1, 0, 1, 1, 0, 1, [1, 0, 1, 1, 0, 1, 0]],\n",
       " [1, 0, 0, 0, 0, 1, 0, [0, 1, 0, 0, 0, 0, 1]],\n",
       " [1, 1, 0, 1, 1, 1, 0, [0, 1, 0, 0, 0, 1, 0]],\n",
       " [0, 1, 0, 0, 0, 0, 0, [0, 1, 0, 0, 0, 1, 1]],\n",
       " [1, 1, 0, 0, 1, 1, 0, [0, 1, 0, 0, 1, 0, 0]],\n",
       " [0, 0, 0, 0, 1, 0, 0, [0, 1, 0, 0, 1, 0, 1]],\n",
       " [1, 1, 1, 0, 1, 1, 0, [0, 1, 0, 0, 1, 1, 0]],\n",
       " [1, 1, 0, 1, 0, 0, 1, [0, 1, 0, 0, 1, 1, 1]],\n",
       " [0, 1, 1, 1, 1, 1, 0, [0, 1, 0, 1, 0, 0, 0]],\n",
       " [0, 0, 1, 0, 0, 0, 1, [0, 1, 0, 1, 0, 0, 1]],\n",
       " [1, 1, 1, 1, 0, 0, 1, [0, 1, 0, 1, 0, 1, 0]],\n",
       " [1, 1, 1, 1, 0, 0, 0, [0, 1, 0, 1, 0, 1, 1]],\n",
       " [1, 1, 1, 0, 0, 1, 0, [0, 1, 0, 1, 1, 0, 0]],\n",
       " [0, 1, 1, 0, 1, 0, 1, [0, 1, 0, 1, 1, 0, 1]],\n",
       " [1, 0, 0, 1, 0, 1, 0, [0, 1, 0, 1, 1, 1, 0]],\n",
       " [1, 0, 1, 0, 0, 1, 0, [0, 1, 0, 1, 1, 1, 1]],\n",
       " [0, 1, 0, 0, 1, 0, 0, [0, 1, 1, 1, 0, 1, 0]],\n",
       " [1, 0, 0, 0, 0, 0, 0, [0, 1, 1, 1, 0, 1, 1]],\n",
       " [0, 0, 0, 0, 0, 0, 1, [0, 1, 1, 1, 1, 0, 0]],\n",
       " [0, 0, 0, 0, 0, 0, 0, [0, 1, 1, 1, 1, 0, 1]],\n",
       " [0, 1, 0, 0, 0, 0, 1, [0, 1, 1, 1, 1, 1, 0]],\n",
       " [1, 0, 1, 0, 1, 0, 1, [0, 1, 1, 1, 1, 1, 1]],\n",
       " [0, 1, 1, 0, 1, 1, 1, [1, 0, 0, 0, 0, 0, 0]],\n",
       " [1, 1, 0, 1, 1, 1, 1, [1, 0, 1, 1, 0, 1, 1]],\n",
       " [1, 1, 1, 0, 1, 0, 0, [1, 0, 1, 1, 1, 0, 0]],\n",
       " [1, 0, 0, 1, 1, 0, 0, [1, 0, 1, 1, 1, 0, 1]],\n",
       " [0, 0, 1, 1, 0, 1, 1, [1, 0, 1, 1, 1, 1, 0]],\n",
       " [1, 1, 0, 0, 1, 0, 1, [1, 0, 1, 1, 1, 1, 1]],\n",
       " [0, 1, 0, 1, 0, 1, 1, [1, 1, 0, 0, 0, 0, 0]],\n",
       " [1, 1, 0, 0, 0, 1, 0, [1, 1, 1, 1, 0, 1, 1]],\n",
       " [1, 1, 1, 0, 0, 1, 1, [1, 1, 1, 1, 1, 0, 0]],\n",
       " [1, 1, 0, 1, 0, 1, 1, [1, 1, 1, 1, 1, 0, 1]],\n",
       " [0, 1, 1, 0, 0, 0, 1, [1, 1, 1, 1, 1, 1, 0]],\n",
       " [0, 1, 1, 0, 0, 1, 0, [0, 1, 0, 0, 0, 0, 0]],\n",
       " [1, 1, 1, 1, 1, 1, 1, [0, 0, 0, 1, 0, 0, 1]],\n",
       " [1, 1, 0, 0, 1, 1, 0, [0, 0, 0, 1, 0, 1, 0]],\n",
       " [0, 1, 1, 0, 1, 1, 1, [0, 0, 0, 1, 1, 0, 1]],\n",
       " [1, 0, 1, 1, 1, 1, 0, [0, 0, 0, 1, 0, 1, 1]],\n",
       " [1, 1, 0, 0, 1, 0, 1, [0, 0, 0, 1, 1, 0, 0]]]"
      ]
     },
     "execution_count": 649,
     "metadata": {},
     "output_type": "execute_result"
    }
   ],
   "source": [
    "k"
   ]
  },
  {
   "cell_type": "code",
   "execution_count": 292,
   "metadata": {
    "scrolled": true
   },
   "outputs": [
    {
     "name": "stdout",
     "output_type": "stream",
     "text": [
      "75\n"
     ]
    }
   ],
   "source": [
    "t = list()\n",
    "t.append(predict(network,dataset[0],0))\n",
    "for i in range(1,100):\n",
    "    if predict(network,dataset[i],0) in t:\n",
    "        print(i)\n",
    "        index = i\n",
    "        break\n",
    "    t.append(predict(network,dataset[i],0))"
   ]
  },
  {
   "cell_type": "code",
   "execution_count": 320,
   "metadata": {},
   "outputs": [],
   "source": [
    "t = np.random.randint(2, size= 8)\n",
    "\"\".join(map(str, t))\n",
    "p = \"\".join([str(a) for a in t])\n",
    "if p in c:\n",
    "    flag = 1\n",
    "    while flag:\n",
    "        t = np.random.randint(2, size= 8)\n",
    "        \"\".join(map(str, t))\n",
    "        p = \"\".join([str(a) for a in t])\n",
    "        if p in c:\n",
    "            flag = 1\n",
    "        else:\n",
    "            flag = 0"
   ]
  },
  {
   "cell_type": "code",
   "execution_count": 321,
   "metadata": {},
   "outputs": [],
   "source": [
    "c = list()\n",
    "for i in k:\n",
    "    s = \"\"\n",
    "    i = list(map(str,i))\n",
    "    c.append(s.join(i))"
   ]
  },
  {
   "cell_type": "code",
   "execution_count": 322,
   "metadata": {},
   "outputs": [
    {
     "data": {
      "text/plain": [
       "100"
      ]
     },
     "execution_count": 322,
     "metadata": {},
     "output_type": "execute_result"
    }
   ],
   "source": [
    "len(list( dict.fromkeys(c)))"
   ]
  },
  {
   "cell_type": "code",
   "execution_count": 323,
   "metadata": {},
   "outputs": [],
   "source": [
    "count = 0\n",
    "dataset = list()\n",
    "for i in ascii_list:\n",
    "    p = list(i)\n",
    "    p = list(map(int,p))\n",
    "    j = list(k[count])\n",
    "    j = list(map(int,j))\n",
    "    count += 1\n",
    "    p.append(j)\n",
    "    dataset.append(p)"
   ]
  },
  {
   "cell_type": "code",
   "execution_count": 328,
   "metadata": {},
   "outputs": [
    {
     "data": {
      "text/plain": [
       "list"
      ]
     },
     "execution_count": 328,
     "metadata": {},
     "output_type": "execute_result"
    }
   ],
   "source": [
    "type(network)"
   ]
  },
  {
   "cell_type": "code",
   "execution_count": 331,
   "metadata": {},
   "outputs": [],
   "source": [
    "import json\n",
    "my_list = ['a', 'b', 'c']\n",
    "my_json_string = json.dumps(my_list)"
   ]
  },
  {
   "cell_type": "code",
   "execution_count": 335,
   "metadata": {},
   "outputs": [],
   "source": [
    "my_network_json = json.dumps(network)"
   ]
  },
  {
   "cell_type": "code",
   "execution_count": 15,
   "metadata": {},
   "outputs": [],
   "source": [
    "# -*- coding: utf-8 -*-\n",
    "import json\n",
    "\n",
    "# Make it work for Python 2+3 and with Unicode\n",
    "import io\n",
    "try:\n",
    "    to_unicode = unicode\n",
    "except NameError:\n",
    "    to_unicode = str"
   ]
  },
  {
   "cell_type": "code",
   "execution_count": 511,
   "metadata": {},
   "outputs": [],
   "source": [
    "# Write JSON file\n",
    "with io.open('../network/network.json', 'w', encoding='utf8') as outfile:\n",
    "    str_ = json.dumps(network,\n",
    "                      indent=4, sort_keys=True,\n",
    "                      separators=(',', ': '), ensure_ascii=False)\n",
    "    outfile.write(to_unicode(str_))"
   ]
  },
  {
   "cell_type": "code",
   "execution_count": 39,
   "metadata": {},
   "outputs": [],
   "source": [
    "# Read JSON file\n",
    "with open('../network/network.json') as data_file:\n",
    "    new_network = json.load(data_file)"
   ]
  },
  {
   "cell_type": "code",
   "execution_count": 17,
   "metadata": {},
   "outputs": [
    {
     "name": "stdout",
     "output_type": "stream",
     "text": [
      "Hello good afternoon ladies and gentlemen.\n",
      "\n",
      "This is the official testing document for encryptor & decryptor efficiency.\n",
      "\n",
      "The following message is just a garbage and is only checked for efficiency\n",
      "\n",
      "A\n",
      "\n",
      "G\n",
      "\n",
      "BhjUi\n",
      "\n",
      "$342@/.dj\n",
      "\n",
      "jSjjd\n"
     ]
    }
   ],
   "source": [
    "data = list()\n",
    "f=open(\"../asciiTextData/initialTestDocument.txt\",\"r\")\n",
    "line=f.readline()\n",
    "while line!='':\n",
    "    data.append(line)\n",
    "    print(line)\n",
    "    line=f.readline()    "
   ]
  },
  {
   "cell_type": "code",
   "execution_count": 51,
   "metadata": {},
   "outputs": [],
   "source": [
    "new_data =list()\n",
    "for i in ascii_list:\n",
    "    new_data.append(list(map(int,list(i))))"
   ]
  },
  {
   "cell_type": "code",
   "execution_count": 53,
   "metadata": {},
   "outputs": [],
   "source": [
    "for i in new_data:\n",
    "    i.append(0)"
   ]
  },
  {
   "cell_type": "code",
   "execution_count": 60,
   "metadata": {},
   "outputs": [],
   "source": [
    "en = list()\n",
    "for i in range(len(new_data)):\n",
    "    en.append(predict(new_network,new_data[i],0))"
   ]
  },
  {
   "cell_type": "code",
   "execution_count": 61,
   "metadata": {},
   "outputs": [],
   "source": [
    "for i in range(len(new_data)):\n",
    "    en[i].append(new_data[i][:-1])"
   ]
  },
  {
   "cell_type": "code",
   "execution_count": 63,
   "metadata": {
    "scrolled": true
   },
   "outputs": [],
   "source": [
    "# Write JSON file\n",
    "with io.open('../datasets/languageDecryptor.json', 'w', encoding='utf8') as outfile:\n",
    "    str_ = json.dumps(en,\n",
    "                      indent=4, sort_keys=True,\n",
    "                      separators=(',', ': '), ensure_ascii=False)\n",
    "    outfile.write(to_unicode(str_))"
   ]
  },
  {
   "cell_type": "code",
   "execution_count": 18,
   "metadata": {},
   "outputs": [
    {
     "name": "stdout",
     "output_type": "stream",
     "text": [
      "data conversion preserved\n"
     ]
    }
   ],
   "source": [
    "bit_data = list()\n",
    "for i in data:\n",
    "    bit_data.append(text_to_bits(i))\n",
    "flag = 1\n",
    "for i in range(len(bit_data)):\n",
    "    if ((len(bit_data[i]))%8) != 0:\n",
    "        print(\"data corrupted\")\n",
    "        flag = 0\n",
    "        break\n",
    "\n",
    "if flag:\n",
    "    print(\"data conversion preserved\")"
   ]
  },
  {
   "cell_type": "code",
   "execution_count": 19,
   "metadata": {
    "scrolled": false
   },
   "outputs": [
    {
     "name": "stdout",
     "output_type": "stream",
     "text": [
      "data input is ready\n"
     ]
    }
   ],
   "source": [
    "input_data = list()\n",
    "for i in bit_data:\n",
    "    l = len(i)\n",
    "    k = int(l/8)\n",
    "    c = 0\n",
    "    for j in range(k):\n",
    "        s = i[c:c+8]\n",
    "        input_data.append(s)\n",
    "        c += 8\n",
    "        \n",
    "c = 0\n",
    "for i in bit_data:\n",
    "    l = len(i)\n",
    "    c += int(l/8)\n",
    "\n",
    "if c == len(input_data):\n",
    "    print(\"data input is ready\")\n",
    "\n",
    "input_data_final = list()\n",
    "for i in input_data:\n",
    "    a = list(i)\n",
    "    b = list(i)\n",
    "    a = list(map(int,a))\n",
    "    b = list(map(int,b))\n",
    "    a.append(b)\n",
    "    input_data_final.append(a)"
   ]
  },
  {
   "cell_type": "code",
   "execution_count": 22,
   "metadata": {},
   "outputs": [],
   "source": [
    "encrypted_data = list()\n",
    "for i in input_data_final:\n",
    "    encrypted_data.append(predict(new_network,i,0))"
   ]
  },
  {
   "cell_type": "code",
   "execution_count": 23,
   "metadata": {},
   "outputs": [],
   "source": [
    "encrypted_data_final = list()\n",
    "for i in encrypted_data:\n",
    "    s = \"\"\n",
    "    i = list(map(str,i))\n",
    "    encrypted_data_final.append(s.join(i))"
   ]
  },
  {
   "cell_type": "code",
   "execution_count": 24,
   "metadata": {
    "scrolled": true
   },
   "outputs": [],
   "source": [
    "s = \"\"\n",
    "for i in encrypted_data_final:\n",
    "    s += i"
   ]
  },
  {
   "cell_type": "code",
   "execution_count": 621,
   "metadata": {},
   "outputs": [],
   "source": [
    "s = list(s)"
   ]
  },
  {
   "cell_type": "code",
   "execution_count": 624,
   "metadata": {},
   "outputs": [],
   "source": [
    "# Write JSON file\n",
    "with io.open('../asciiTextData/encrypted.json', 'w', encoding='utf8') as outfile:\n",
    "    str_ = json.dumps(s,\n",
    "                      indent=4, sort_keys=True,\n",
    "                      separators=(',', ': '), ensure_ascii=False)\n",
    "    outfile.write(to_unicode(str_))"
   ]
  },
  {
   "cell_type": "code",
   "execution_count": 633,
   "metadata": {},
   "outputs": [],
   "source": [
    "file1 = open(\"../asciiTextData/encrypted.txt\",\"w\")"
   ]
  },
  {
   "cell_type": "code",
   "execution_count": 634,
   "metadata": {},
   "outputs": [],
   "source": [
    "file1.write(s) \n",
    "file1.close()"
   ]
  },
  {
   "cell_type": "code",
   "execution_count": 635,
   "metadata": {},
   "outputs": [
    {
     "name": "stdout",
     "output_type": "stream",
     "text": [
      "Output of Read function is \n"
     ]
    }
   ],
   "source": [
    "file1 = open(\"../asciiTextData/encrypted.txt\",\"r+\")  \n",
    "  \n",
    "print(\"Output of Read function is \")\n",
    "s = file1.read()"
   ]
  },
  {
   "cell_type": "code",
   "execution_count": 637,
   "metadata": {
    "scrolled": true
   },
   "outputs": [
    {
     "name": "stdout",
     "output_type": "stream",
     "text": [
      "Uncompressed Text: \n",
      "000000011001100111110101111101011101000111100111100111001101000111010001101101001110011110101010100000111110011010011001100101010001100011010001110100010001100011100111111101011010101010110100101000011001100100010110111001111010101000011000101101001110011110011100100110010001100011100110111101011001100111010101100110010001100000010011101101111011110111011100101000010001011011100111101000010001011011100111111001101101110010011001111001111101000110000011100000111010000110001101101000011010101011110101111001111110011010011001000101101110011010100001000110001001110011100111101101001101000110001101111111011101010110011001000110001110011011100111100000111101000110010101111001111001100100011000100011011001010110011000101111111110011011010001100101011110011111001011111001111011010010011001100011011001010110011000101111111110011011010001100101011110011110011001100000111000001110100001100011011010000110011001000110001000110110011000000100111011011110111101110111001001100111100111100000111101000111110101111101011101000110110101101000010001100010011100111001111101010110011001000101100001011010101010100111001001100111100111101000010001011011100111100000001111110100010110111001101110011110101010111001111001110010101010100101011001011110101010100111001001100111100111101010100001100010110100111001111010000100010110111001111101000100011000111101011001100011100111100011011101110010011001100011011101001010011001101101001110011110000011110100011001010111100111100110011000001110000011101000011000110110100001100110010001100010001101100110001011011100001010101101111000100010110111011111111101110010000000111100111010000110110111000000001011111010100110110001101100001111110010000100111011010010000000101101111000000010010000100000001000000010110100\n",
      "Compressed text: \n",
      "eNqtVIENwzAIe8n8/9yqFYOdhKrS1qnJlhFjMAB8nwi+14PQ/Vrvc1m/xnmee560HT8AYcskX9TdHa/PySr5FG6C3R4aE/nXwqPwNp75Ve6LX7Rf5gf2m/YAUetSLsQPYOB3PC//zi9UpfIdskusDBaSt9bX/ZzzZ7yjg1T+vGxaUrEpX5JfRgVJSNWH6eQ8Mj7DR7mW/B3xomw9DgjWL/iC806fOb539bXUx5rPqa/RffWo80HHZOZdiYnPVP/oCRGH+lvnyda37Rell82fkc/zXJj6cptPXh8S11EfOQd0Hm5z6VU//Ku+OkjIfI22lWikt6H6uf/GQ/dNRawNJoNoqXPBFz40okC+3/c+XlZMGg==\n",
      "b'000000011001100111110101111101011101000111100111100111001101000111010001101101001110011110101010100000111110011010011001100101010001100011010001110100010001100011100111111101011010101010110100101000011001100100010110111001111010101000011000101101001110011110011100100110010001100011100110111101011001100111010101100110010001100000010011101101111011110111011100101000010001011011100111101000010001011011100111111001101101110010011001111001111101000110000011100000111010000110001101101000011010101011110101111001111110011010011001000101101110011010100001000110001001110011100111101101001101000110001101111111011101010110011001000110001110011011100111100000111101000110010101111001111001100100011000100011011001010110011000101111111110011011010001100101011110011111001011111001111011010010011001100011011001010110011000101111111110011011010001100101011110011110011001100000111000001110100001100011011010000110011001000110001000110110011000000100111011011110111101110111001001100111100111100000111101000111110101111101011101000110110101101000010001100010011100111001111101010110011001000101100001011010101010100111001001100111100111101000010001011011100111100000001111110100010110111001101110011110101010111001111001110010101010100101011001011110101010100111001001100111100111101010100001100010110100111001111010000100010110111001111101000100011000111101011001100011100111100011011101110010011001100011011101001010011001101101001110011110000011110100011001010111100111100110011000001110000011101000011000110110100001100110010001100010001101100110001011011100001010101101111000100010110111011111111101110010000000111100111010000110110111000000001011111010100110110001101100001111110010000100111011010010000000101101111000000010010000100000001000000010110100'\n"
     ]
    }
   ],
   "source": [
    "import zlib, base64\n",
    "file = open('../asciiTextData/encrypted.txt','r')\n",
    "text = file.read()\n",
    "file.close()\n",
    "print(\"Uncompressed Text: \\n\"+text)\n",
    "# encoding the text\n",
    "code =  base64.b64encode(zlib.compress(text.encode('utf-8'),9))\n",
    "code = code.decode('utf-8')\n",
    "f=open('../asciiTextData/encrypted.txt','w')\n",
    "f.write(code)\n",
    "f.close()\n",
    "print(\"Compressed text: \\n\"+code)\n",
    "# decode the encoded text\n",
    "decoded_txt = zlib.decompress(base64.b64decode(code))\n",
    "print(decoded_txt)"
   ]
  },
  {
   "cell_type": "code",
   "execution_count": 638,
   "metadata": {},
   "outputs": [],
   "source": [
    "file = open('../asciiTextData/encrypted.txt','r')\n",
    "text = file.read()\n",
    "file.close()"
   ]
  },
  {
   "cell_type": "code",
   "execution_count": 639,
   "metadata": {},
   "outputs": [
    {
     "data": {
      "text/plain": [
       "'eNqtVIENwzAIe8n8/9yqFYOdhKrS1qnJlhFjMAB8nwi+14PQ/Vrvc1m/xnmee560HT8AYcskX9TdHa/PySr5FG6C3R4aE/nXwqPwNp75Ve6LX7Rf5gf2m/YAUetSLsQPYOB3PC//zi9UpfIdskusDBaSt9bX/ZzzZ7yjg1T+vGxaUrEpX5JfRgVJSNWH6eQ8Mj7DR7mW/B3xomw9DgjWL/iC806fOb539bXUx5rPqa/RffWo80HHZOZdiYnPVP/oCRGH+lvnyda37Rell82fkc/zXJj6cptPXh8S11EfOQd0Hm5z6VU//Ku+OkjIfI22lWikt6H6uf/GQ/dNRawNJoNoqXPBFz40okC+3/c+XlZMGg=='"
      ]
     },
     "execution_count": 639,
     "metadata": {},
     "output_type": "execute_result"
    }
   ],
   "source": [
    "text"
   ]
  },
  {
   "cell_type": "code",
   "execution_count": 640,
   "metadata": {},
   "outputs": [],
   "source": [
    "decoded_txt = zlib.decompress(base64.b64decode(text))"
   ]
  },
  {
   "cell_type": "code",
   "execution_count": 643,
   "metadata": {},
   "outputs": [],
   "source": [
    "output = decoded_txt.decode()"
   ]
  },
  {
   "cell_type": "code",
   "execution_count": 644,
   "metadata": {
    "scrolled": true
   },
   "outputs": [
    {
     "data": {
      "text/plain": [
       "'000000011001100111110101111101011101000111100111100111001101000111010001101101001110011110101010100000111110011010011001100101010001100011010001110100010001100011100111111101011010101010110100101000011001100100010110111001111010101000011000101101001110011110011100100110010001100011100110111101011001100111010101100110010001100000010011101101111011110111011100101000010001011011100111101000010001011011100111111001101101110010011001111001111101000110000011100000111010000110001101101000011010101011110101111001111110011010011001000101101110011010100001000110001001110011100111101101001101000110001101111111011101010110011001000110001110011011100111100000111101000110010101111001111001100100011000100011011001010110011000101111111110011011010001100101011110011111001011111001111011010010011001100011011001010110011000101111111110011011010001100101011110011110011001100000111000001110100001100011011010000110011001000110001000110110011000000100111011011110111101110111001001100111100111100000111101000111110101111101011101000110110101101000010001100010011100111001111101010110011001000101100001011010101010100111001001100111100111101000010001011011100111100000001111110100010110111001101110011110101010111001111001110010101010100101011001011110101010100111001001100111100111101010100001100010110100111001111010000100010110111001111101000100011000111101011001100011100111100011011101110010011001100011011101001010011001101101001110011110000011110100011001010111100111100110011000001110000011101000011000110110100001100110010001100010001101100110001011011100001010101101111000100010110111011111111101110010000000111100111010000110110111000000001011111010100110110001101100001111110010000100111011010010000000101101111000000010010000100000001000000010110100'"
      ]
     },
     "execution_count": 644,
     "metadata": {},
     "output_type": "execute_result"
    }
   ],
   "source": [
    "output"
   ]
  },
  {
   "cell_type": "code",
   "execution_count": 683,
   "metadata": {},
   "outputs": [],
   "source": [
    "seed(1)\n",
    "reverse_network = initialize_network([8,18,18,8])\n"
   ]
  },
  {
   "cell_type": "code",
   "execution_count": 684,
   "metadata": {
    "scrolled": true
   },
   "outputs": [
    {
     "data": {
      "text/plain": [
       "[[1, 1, 0, 1, 1, 1, 0, 1, [0, 0, 1, 1, 0, 0, 0, 0]],\n",
       " [1, 1, 0, 0, 1, 1, 1, 0, [0, 0, 1, 1, 0, 0, 0, 1]],\n",
       " [1, 1, 0, 0, 0, 1, 1, 0, [0, 0, 1, 1, 0, 0, 1, 0]],\n",
       " [1, 0, 1, 1, 1, 1, 1, 0, [0, 0, 1, 1, 0, 0, 1, 1]],\n",
       " [1, 0, 1, 0, 0, 1, 1, 0, [0, 0, 1, 1, 0, 1, 0, 0]],\n",
       " [0, 0, 0, 0, 0, 1, 1, 0, [0, 0, 1, 1, 0, 1, 0, 1]],\n",
       " [1, 0, 0, 1, 0, 1, 1, 0, [0, 0, 1, 1, 0, 1, 1, 0]],\n",
       " [1, 0, 0, 0, 0, 1, 1, 0, [0, 0, 1, 1, 0, 1, 1, 1]],\n",
       " [1, 1, 0, 0, 1, 0, 1, 0, [0, 0, 1, 1, 1, 0, 0, 0]],\n",
       " [0, 0, 0, 1, 1, 1, 0, 0, [0, 0, 1, 1, 1, 0, 0, 1]],\n",
       " [1, 0, 1, 0, 1, 0, 1, 0, [0, 1, 1, 0, 0, 0, 0, 1]],\n",
       " [1, 0, 0, 1, 0, 1, 1, 1, [0, 1, 1, 0, 0, 0, 1, 0]],\n",
       " [1, 0, 0, 0, 1, 1, 0, 1, [0, 1, 1, 0, 0, 0, 1, 1]],\n",
       " [1, 0, 1, 1, 0, 1, 0, 0, [0, 1, 1, 0, 0, 1, 0, 0]],\n",
       " [1, 0, 0, 1, 1, 0, 0, 1, [0, 1, 1, 0, 0, 1, 0, 1]],\n",
       " [1, 0, 0, 0, 0, 0, 1, 1, [0, 1, 1, 0, 0, 1, 1, 0]],\n",
       " [1, 0, 0, 1, 1, 1, 0, 0, [0, 1, 1, 0, 0, 1, 1, 1]],\n",
       " [1, 1, 0, 1, 1, 1, 0, 0, [0, 1, 1, 0, 1, 0, 0, 0]],\n",
       " [1, 0, 1, 0, 0, 0, 0, 1, [0, 1, 1, 0, 1, 0, 0, 1]],\n",
       " [1, 0, 0, 0, 0, 0, 0, 0, [0, 1, 1, 0, 1, 0, 1, 0]],\n",
       " [1, 1, 0, 1, 0, 0, 1, 0, [0, 1, 1, 0, 1, 0, 1, 1]],\n",
       " [1, 1, 1, 1, 0, 1, 0, 1, [0, 1, 1, 0, 1, 1, 0, 0]],\n",
       " [1, 1, 0, 1, 0, 1, 0, 1, [0, 1, 1, 0, 1, 1, 0, 1]],\n",
       " [0, 0, 0, 1, 1, 0, 0, 0, [0, 1, 1, 0, 1, 1, 1, 0]],\n",
       " [1, 1, 0, 1, 0, 0, 0, 1, [0, 1, 1, 0, 1, 1, 1, 1]],\n",
       " [1, 0, 1, 1, 1, 1, 1, 1, [0, 1, 1, 1, 0, 0, 0, 0]],\n",
       " [1, 1, 1, 1, 0, 0, 0, 1, [0, 1, 1, 1, 0, 0, 0, 1]],\n",
       " [1, 0, 0, 1, 0, 1, 0, 1, [0, 1, 1, 1, 0, 0, 1, 0]],\n",
       " [0, 0, 0, 1, 0, 1, 1, 0, [0, 1, 1, 1, 0, 0, 1, 1]],\n",
       " [1, 1, 1, 0, 0, 1, 1, 0, [0, 1, 1, 1, 0, 1, 0, 0]],\n",
       " [1, 1, 1, 1, 1, 1, 0, 1, [0, 1, 1, 1, 0, 1, 0, 1]],\n",
       " [1, 0, 1, 1, 1, 0, 0, 0, [0, 1, 1, 1, 0, 1, 1, 0]],\n",
       " [1, 0, 1, 1, 0, 1, 0, 1, [0, 1, 1, 1, 0, 1, 1, 1]],\n",
       " [1, 1, 1, 0, 0, 0, 0, 1, [0, 1, 1, 1, 1, 0, 0, 0]],\n",
       " [1, 0, 0, 1, 1, 0, 0, 0, [0, 1, 1, 1, 1, 0, 0, 1]],\n",
       " [1, 0, 0, 0, 1, 1, 0, 0, [0, 1, 1, 1, 1, 0, 1, 0]],\n",
       " [0, 0, 0, 0, 1, 0, 1, 0, [0, 1, 0, 0, 0, 0, 0, 1]],\n",
       " [0, 1, 1, 1, 1, 1, 1, 1, [0, 1, 0, 0, 0, 0, 1, 0]],\n",
       " [1, 0, 0, 0, 1, 1, 1, 0, [0, 1, 0, 0, 0, 0, 1, 1]],\n",
       " [1, 1, 1, 1, 1, 0, 1, 0, [0, 1, 0, 0, 0, 1, 0, 0]],\n",
       " [0, 0, 0, 0, 1, 1, 1, 0, [0, 1, 0, 0, 0, 1, 0, 1]],\n",
       " [1, 1, 1, 1, 1, 0, 0, 0, [0, 1, 0, 0, 0, 1, 1, 0]],\n",
       " [1, 0, 0, 0, 1, 0, 0, 0, [0, 1, 0, 0, 0, 1, 1, 1]],\n",
       " [0, 0, 0, 0, 0, 0, 0, 1, [0, 1, 0, 0, 1, 0, 0, 0]],\n",
       " [1, 1, 0, 0, 0, 1, 0, 0, [0, 1, 0, 0, 1, 0, 0, 1]],\n",
       " [0, 0, 0, 0, 1, 1, 1, 1, [0, 1, 0, 0, 1, 0, 1, 0]],\n",
       " [1, 0, 1, 0, 1, 0, 0, 0, [0, 1, 0, 0, 1, 0, 1, 1]],\n",
       " [1, 1, 0, 1, 0, 1, 1, 1, [0, 1, 0, 0, 1, 1, 0, 0]],\n",
       " [1, 1, 0, 1, 1, 0, 0, 1, [0, 1, 0, 0, 1, 1, 0, 1]],\n",
       " [1, 1, 1, 0, 0, 0, 0, 0, [0, 1, 0, 0, 1, 1, 1, 0]],\n",
       " [0, 0, 0, 1, 0, 1, 0, 1, [0, 1, 0, 0, 1, 1, 1, 1]],\n",
       " [1, 1, 0, 0, 1, 0, 0, 0, [0, 1, 0, 1, 0, 0, 0, 0]],\n",
       " [1, 1, 0, 0, 1, 1, 0, 1, [0, 1, 0, 1, 0, 0, 0, 1]],\n",
       " [1, 0, 1, 1, 1, 0, 1, 0, [0, 1, 0, 1, 0, 0, 1, 0]],\n",
       " [1, 0, 0, 1, 0, 0, 0, 0, [0, 1, 0, 1, 0, 0, 1, 1]],\n",
       " [1, 0, 1, 1, 1, 1, 0, 1, [0, 1, 0, 1, 0, 1, 0, 0]],\n",
       " [1, 1, 1, 1, 0, 0, 1, 1, [0, 1, 0, 1, 0, 1, 0, 1]],\n",
       " [1, 0, 1, 1, 1, 1, 0, 0, [0, 1, 0, 1, 0, 1, 1, 0]],\n",
       " [1, 1, 0, 1, 0, 1, 1, 0, [0, 1, 0, 1, 0, 1, 1, 1]],\n",
       " [1, 1, 1, 0, 1, 0, 1, 0, [0, 1, 0, 1, 1, 0, 0, 0]],\n",
       " [0, 0, 0, 1, 1, 1, 0, 1, [0, 1, 0, 1, 1, 0, 0, 1]],\n",
       " [1, 1, 0, 1, 1, 0, 1, 1, [0, 1, 0, 1, 1, 0, 1, 0]],\n",
       " [1, 1, 0, 1, 1, 0, 1, 0, [0, 0, 1, 0, 0, 0, 0, 1]],\n",
       " [0, 0, 0, 1, 0, 1, 0, 0, [0, 0, 1, 0, 0, 0, 1, 0]],\n",
       " [1, 0, 1, 0, 0, 1, 0, 0, [0, 0, 1, 0, 0, 0, 1, 1]],\n",
       " [0, 0, 0, 0, 0, 0, 0, 0, [0, 0, 1, 0, 0, 1, 0, 0]],\n",
       " [1, 0, 0, 0, 1, 0, 1, 1, [0, 0, 1, 0, 0, 1, 0, 1]],\n",
       " [1, 1, 0, 0, 1, 0, 1, 1, [0, 0, 1, 0, 0, 1, 1, 0]],\n",
       " [1, 1, 1, 1, 0, 1, 1, 0, [0, 0, 1, 0, 0, 1, 1, 1]],\n",
       " [0, 0, 0, 0, 0, 0, 1, 0, [0, 0, 1, 0, 1, 0, 0, 0]],\n",
       " [1, 1, 1, 0, 1, 0, 0, 0, [0, 0, 1, 0, 1, 0, 0, 1]],\n",
       " [1, 0, 1, 0, 1, 0, 0, 1, [0, 0, 1, 0, 1, 0, 1, 0]],\n",
       " [1, 1, 1, 0, 0, 0, 1, 1, [0, 0, 1, 0, 1, 0, 1, 1]],\n",
       " [1, 1, 0, 1, 0, 1, 0, 0, [0, 0, 1, 0, 1, 1, 0, 0]],\n",
       " [1, 0, 1, 0, 0, 0, 0, 0, [0, 0, 1, 0, 1, 1, 0, 1]],\n",
       " [0, 0, 0, 1, 0, 0, 1, 1, [0, 0, 1, 0, 1, 1, 1, 0]],\n",
       " [1, 1, 1, 1, 0, 0, 1, 0, [0, 0, 1, 0, 1, 1, 1, 1]],\n",
       " [1, 0, 0, 0, 0, 1, 1, 1, [0, 0, 1, 1, 1, 0, 1, 0]],\n",
       " [1, 0, 1, 1, 0, 0, 1, 0, [0, 0, 1, 1, 1, 0, 1, 1]],\n",
       " [1, 1, 1, 0, 0, 0, 1, 0, [0, 0, 1, 1, 1, 1, 0, 0]],\n",
       " [1, 1, 0, 0, 1, 1, 1, 1, [0, 0, 1, 1, 1, 1, 0, 1]],\n",
       " [0, 0, 0, 1, 1, 1, 1, 1, [0, 0, 1, 1, 1, 1, 1, 0]],\n",
       " [1, 1, 1, 0, 1, 0, 1, 1, [0, 0, 1, 1, 1, 1, 1, 1]],\n",
       " [1, 1, 0, 0, 0, 0, 1, 1, [0, 1, 0, 0, 0, 0, 0, 0]],\n",
       " [1, 1, 0, 1, 1, 1, 1, 1, [0, 1, 0, 1, 1, 0, 1, 1]],\n",
       " [1, 1, 0, 0, 0, 0, 1, 0, [0, 1, 0, 1, 1, 1, 0, 0]],\n",
       " [1, 0, 0, 0, 1, 1, 1, 1, [0, 1, 0, 1, 1, 1, 0, 1]],\n",
       " [1, 1, 0, 1, 1, 0, 0, 0, [0, 1, 0, 1, 1, 1, 1, 0]],\n",
       " [1, 1, 0, 0, 0, 0, 0, 0, [0, 1, 0, 1, 1, 1, 1, 1]],\n",
       " [1, 1, 0, 0, 1, 0, 0, 1, [0, 1, 1, 0, 0, 0, 0, 0]],\n",
       " [1, 1, 0, 1, 1, 1, 1, 0, [0, 1, 1, 1, 1, 0, 1, 1]],\n",
       " [1, 1, 1, 0, 0, 1, 0, 0, [0, 1, 1, 1, 1, 1, 0, 0]],\n",
       " [0, 0, 0, 1, 1, 1, 1, 0, [0, 1, 1, 1, 1, 1, 0, 1]],\n",
       " [1, 0, 1, 1, 0, 0, 1, 1, [0, 1, 1, 1, 1, 1, 1, 0]],\n",
       " [1, 1, 1, 0, 0, 1, 1, 1, [0, 0, 1, 0, 0, 0, 0, 0]],\n",
       " [1, 1, 1, 1, 1, 1, 0, 0, [0, 0, 0, 0, 1, 0, 0, 1]],\n",
       " [1, 0, 1, 1, 0, 1, 1, 1, [0, 0, 0, 0, 1, 0, 1, 0]],\n",
       " [1, 0, 0, 0, 1, 0, 1, 0, [0, 0, 0, 0, 1, 1, 0, 1]],\n",
       " [1, 0, 1, 0, 0, 0, 1, 0, [0, 0, 0, 0, 1, 0, 1, 1]],\n",
       " [0, 0, 0, 0, 0, 0, 1, 1, [0, 0, 0, 0, 1, 1, 0, 0]]]"
      ]
     },
     "execution_count": 684,
     "metadata": {},
     "output_type": "execute_result"
    }
   ],
   "source": [
    "k"
   ]
  },
  {
   "cell_type": "code",
   "execution_count": 685,
   "metadata": {
    "scrolled": true
   },
   "outputs": [
    {
     "name": "stdout",
     "output_type": "stream",
     "text": [
      "> epoch=99, lrate=0.500, error=223.557\n",
      "> epoch=199, lrate=0.500, error=174.314\n",
      "> epoch=299, lrate=0.500, error=158.024\n",
      "> epoch=399, lrate=0.500, error=92.825\n",
      "> epoch=499, lrate=0.500, error=46.072\n",
      "> epoch=599, lrate=0.500, error=17.516\n",
      "> epoch=699, lrate=0.500, error=13.383\n",
      "> epoch=799, lrate=0.500, error=11.074\n",
      "> epoch=899, lrate=0.500, error=9.811\n",
      "> epoch=999, lrate=0.500, error=9.603\n",
      "> epoch=1099, lrate=0.500, error=9.480\n",
      "> epoch=1199, lrate=0.500, error=9.396\n",
      "> epoch=1299, lrate=0.500, error=9.282\n",
      "> epoch=1399, lrate=0.500, error=8.300\n",
      "> epoch=1499, lrate=0.500, error=7.283\n",
      "> epoch=1599, lrate=0.500, error=7.227\n",
      "> epoch=1699, lrate=0.500, error=7.198\n",
      "> epoch=1799, lrate=0.500, error=7.178\n",
      "> epoch=1899, lrate=0.500, error=7.162\n",
      "> epoch=1999, lrate=0.500, error=7.149\n",
      "> epoch=2099, lrate=0.500, error=7.139\n",
      "> epoch=2199, lrate=0.500, error=7.130\n",
      "> epoch=2299, lrate=0.500, error=7.122\n",
      "> epoch=2399, lrate=0.500, error=7.115\n",
      "> epoch=2499, lrate=0.500, error=7.109\n",
      "> epoch=2599, lrate=0.500, error=7.104\n",
      "> epoch=2699, lrate=0.500, error=7.099\n",
      "> epoch=2799, lrate=0.500, error=7.094\n",
      "> epoch=2899, lrate=0.500, error=7.090\n",
      "> epoch=2999, lrate=0.500, error=7.086\n",
      "> epoch=3099, lrate=0.500, error=7.083\n",
      "> epoch=3199, lrate=0.500, error=7.080\n",
      "> epoch=3299, lrate=0.500, error=7.077\n",
      "> epoch=3399, lrate=0.500, error=7.074\n",
      "> epoch=3499, lrate=0.500, error=7.072\n",
      "> epoch=3599, lrate=0.500, error=7.069\n",
      "> epoch=3699, lrate=0.500, error=7.067\n",
      "> epoch=3799, lrate=0.500, error=7.065\n",
      "> epoch=3899, lrate=0.500, error=7.063\n",
      "> epoch=3999, lrate=0.500, error=7.061\n",
      "> epoch=4099, lrate=0.500, error=7.059\n",
      "> epoch=4199, lrate=0.500, error=7.058\n",
      "> epoch=4299, lrate=0.500, error=7.056\n",
      "> epoch=4399, lrate=0.500, error=7.055\n",
      "> epoch=4499, lrate=0.500, error=7.053\n",
      "> epoch=4599, lrate=0.500, error=7.052\n",
      "> epoch=4699, lrate=0.500, error=7.051\n",
      "> epoch=4799, lrate=0.500, error=7.049\n",
      "> epoch=4899, lrate=0.500, error=7.048\n",
      "> epoch=4999, lrate=0.500, error=7.047\n",
      "> epoch=5099, lrate=0.500, error=7.046\n",
      "> epoch=5199, lrate=0.500, error=7.045\n",
      "> epoch=5299, lrate=0.500, error=7.044\n",
      "> epoch=5399, lrate=0.500, error=7.043\n",
      "> epoch=5499, lrate=0.500, error=7.042\n",
      "> epoch=5599, lrate=0.500, error=7.041\n",
      "> epoch=5699, lrate=0.500, error=7.041\n",
      "> epoch=5799, lrate=0.500, error=7.040\n",
      "> epoch=5899, lrate=0.500, error=7.039\n",
      "> epoch=5999, lrate=0.500, error=7.038\n",
      "> epoch=6099, lrate=0.500, error=7.038\n",
      "> epoch=6199, lrate=0.500, error=7.037\n",
      "> epoch=6299, lrate=0.500, error=7.036\n",
      "> epoch=6399, lrate=0.500, error=7.036\n",
      "> epoch=6499, lrate=0.500, error=7.035\n",
      "> epoch=6599, lrate=0.500, error=7.034\n",
      "> epoch=6699, lrate=0.500, error=7.034\n",
      "> epoch=6799, lrate=0.500, error=7.033\n",
      "> epoch=6899, lrate=0.500, error=7.033\n",
      "> epoch=6999, lrate=0.500, error=7.032\n",
      "> epoch=7099, lrate=0.500, error=7.032\n",
      "> epoch=7199, lrate=0.500, error=7.031\n",
      "> epoch=7299, lrate=0.500, error=7.031\n",
      "> epoch=7399, lrate=0.500, error=7.030\n",
      "> epoch=7499, lrate=0.500, error=7.030\n",
      "> epoch=7599, lrate=0.500, error=7.029\n",
      "> epoch=7699, lrate=0.500, error=7.029\n",
      "> epoch=7799, lrate=0.500, error=7.028\n",
      "> epoch=7899, lrate=0.500, error=7.028\n",
      "> epoch=7999, lrate=0.500, error=7.028\n",
      "> epoch=8099, lrate=0.500, error=7.027\n",
      "> epoch=8199, lrate=0.500, error=7.027\n",
      "> epoch=8299, lrate=0.500, error=7.026\n",
      "> epoch=8399, lrate=0.500, error=7.026\n",
      "> epoch=8499, lrate=0.500, error=7.026\n",
      "> epoch=8599, lrate=0.500, error=7.025\n",
      "> epoch=8699, lrate=0.500, error=7.025\n",
      "> epoch=8799, lrate=0.500, error=7.025\n",
      "> epoch=8899, lrate=0.500, error=7.024\n",
      "> epoch=8999, lrate=0.500, error=7.024\n",
      "> epoch=9099, lrate=0.500, error=7.024\n",
      "> epoch=9199, lrate=0.500, error=7.023\n",
      "> epoch=9299, lrate=0.500, error=7.023\n",
      "> epoch=9399, lrate=0.500, error=7.022\n",
      "> epoch=9499, lrate=0.500, error=7.022\n",
      "> epoch=9599, lrate=0.500, error=7.021\n",
      "> epoch=9699, lrate=0.500, error=7.019\n",
      "> epoch=9799, lrate=0.500, error=6.769\n",
      "> epoch=9899, lrate=0.500, error=6.078\n",
      "> epoch=9999, lrate=0.500, error=6.060\n",
      "time = 340.85535235299903\n"
     ]
    }
   ],
   "source": [
    "n_inputs = len(k[0]) - 1\n",
    "n_outputs = len(k[0][-1])\n",
    "start = timeit.default_timer()\n",
    "train_network(reverse_network, k, 0.5, 10000, n_outputs)\n",
    "stop = timeit.default_timer()\n",
    "print(\"time = {}\".format(stop - start))"
   ]
  },
  {
   "cell_type": "code",
   "execution_count": 693,
   "metadata": {
    "scrolled": true
   },
   "outputs": [
    {
     "name": "stdout",
     "output_type": "stream",
     "text": [
      "[1, 0, 0, 0, 1, 1, 1, 1]---[0, 0, 1, 1, 0, 0, 0, 0]\n",
      "[1, 1, 1, 0, 0, 0, 0, 0]---[0, 0, 1, 1, 0, 0, 0, 1]\n",
      "[1, 1, 1, 1, 1, 0, 0, 0]---[0, 0, 1, 1, 0, 0, 1, 0]\n",
      "[0, 0, 0, 1, 1, 1, 1, 1]---[0, 0, 1, 1, 0, 0, 1, 1]\n",
      "[1, 1, 0, 0, 1, 0, 1, 1]---[0, 0, 1, 1, 0, 1, 0, 0]\n",
      "[1, 1, 1, 1, 1, 0, 1, 0]---[0, 0, 1, 1, 0, 1, 0, 1]\n",
      "[1, 1, 1, 1, 1, 0, 1, 0]---[0, 0, 1, 1, 0, 1, 1, 0]\n",
      "[1, 1, 1, 1, 1, 0, 1, 0]---[0, 0, 1, 1, 0, 1, 1, 1]\n",
      "[0, 0, 0, 0, 1, 1, 1, 1]---[0, 0, 1, 1, 1, 0, 0, 0]\n",
      "[1, 1, 0, 0, 0, 0, 1, 0]---[0, 0, 1, 1, 1, 0, 0, 1]\n",
      "[1, 0, 1, 0, 1, 0, 0, 1]---[0, 1, 1, 0, 0, 0, 0, 1]\n",
      "[1, 1, 1, 1, 0, 0, 1, 0]---[0, 1, 1, 0, 0, 0, 1, 0]\n",
      "[1, 0, 0, 0, 1, 0, 1, 0]---[0, 1, 1, 0, 0, 0, 1, 1]\n",
      "[1, 0, 1, 0, 0, 1, 1, 0]---[0, 1, 1, 0, 0, 1, 0, 0]\n",
      "[0, 0, 0, 1, 1, 1, 0, 0]---[0, 1, 1, 0, 0, 1, 0, 1]\n",
      "[1, 0, 0, 0, 1, 1, 0, 0]---[0, 1, 1, 0, 0, 1, 1, 0]\n",
      "[1, 0, 0, 0, 1, 0, 1, 0]---[0, 1, 1, 0, 0, 1, 1, 1]\n",
      "[1, 1, 0, 0, 0, 0, 1, 0]---[0, 1, 1, 0, 1, 0, 0, 0]\n",
      "[1, 1, 0, 1, 1, 0, 1, 0]---[0, 1, 1, 0, 1, 0, 0, 1]\n",
      "[0, 0, 0, 0, 1, 0, 1, 0]---[0, 1, 1, 0, 1, 0, 1, 0]\n",
      "[1, 0, 1, 1, 1, 1, 1, 0]---[0, 1, 1, 0, 1, 0, 1, 1]\n",
      "[1, 1, 1, 1, 1, 1, 0, 1]---[0, 1, 1, 0, 1, 1, 0, 0]\n",
      "[1, 1, 1, 1, 0, 0, 1, 1]---[0, 1, 1, 0, 1, 1, 0, 1]\n",
      "[1, 1, 0, 0, 1, 0, 1, 0]---[0, 1, 1, 0, 1, 1, 1, 0]\n",
      "[1, 1, 0, 0, 1, 1, 0, 1]---[0, 1, 1, 0, 1, 1, 1, 1]\n",
      "[1, 1, 1, 0, 1, 0, 1, 1]---[0, 1, 1, 1, 0, 0, 0, 0]\n",
      "[1, 1, 1, 1, 0, 0, 0, 1]---[0, 1, 1, 1, 0, 0, 0, 1]\n",
      "[1, 1, 0, 0, 1, 1, 1, 0]---[0, 1, 1, 1, 0, 0, 1, 0]\n",
      "[1, 1, 1, 1, 1, 0, 1, 0]---[0, 1, 1, 1, 0, 0, 1, 1]\n",
      "[1, 0, 0, 0, 0, 0, 1, 1]---[0, 1, 1, 1, 0, 1, 0, 0]\n",
      "[0, 0, 0, 1, 1, 1, 1, 0]---[0, 1, 1, 1, 0, 1, 0, 1]\n",
      "[1, 1, 0, 0, 1, 0, 1, 0]---[0, 1, 1, 1, 0, 1, 1, 0]\n",
      "[0, 0, 0, 0, 0, 1, 1, 0]---[0, 1, 1, 1, 0, 1, 1, 1]\n",
      "[1, 0, 1, 0, 1, 0, 1, 0]---[0, 1, 1, 1, 1, 0, 0, 0]\n",
      "[1, 1, 0, 0, 1, 1, 1, 0]---[0, 1, 1, 1, 1, 0, 0, 1]\n",
      "[0, 0, 0, 0, 0, 0, 1, 1]---[0, 1, 1, 1, 1, 0, 1, 0]\n",
      "[1, 0, 1, 1, 0, 1, 1, 1]---[0, 1, 0, 0, 0, 0, 0, 1]\n",
      "[1, 0, 1, 0, 0, 1, 0, 0]---[0, 1, 0, 0, 0, 0, 1, 0]\n",
      "[1, 0, 1, 1, 0, 0, 1, 1]---[0, 1, 0, 0, 0, 0, 1, 1]\n",
      "[1, 0, 0, 0, 1, 1, 0, 0]---[0, 1, 0, 0, 0, 1, 0, 0]\n",
      "[1, 0, 1, 1, 0, 0, 1, 1]---[0, 1, 0, 0, 0, 1, 0, 1]\n",
      "[1, 1, 1, 0, 0, 0, 0, 1]---[0, 1, 0, 0, 0, 1, 1, 0]\n",
      "[0, 0, 0, 0, 0, 0, 1, 1]---[0, 1, 0, 0, 0, 1, 1, 1]\n",
      "[1, 0, 1, 0, 1, 1, 0, 0]---[0, 1, 0, 0, 1, 0, 0, 0]\n",
      "[1, 1, 1, 1, 1, 0, 1, 0]---[0, 1, 0, 0, 1, 0, 0, 1]\n",
      "[1, 0, 1, 0, 0, 0, 1, 1]---[0, 1, 0, 0, 1, 0, 1, 0]\n",
      "[0, 0, 0, 0, 0, 0, 1, 0]---[0, 1, 0, 0, 1, 0, 1, 1]\n",
      "[1, 1, 0, 1, 0, 1, 1, 0]---[0, 1, 0, 0, 1, 1, 0, 0]\n",
      "[0, 0, 0, 1, 1, 1, 0, 1]---[0, 1, 0, 0, 1, 1, 0, 1]\n",
      "[1, 1, 0, 0, 1, 0, 0, 1]---[0, 1, 0, 0, 1, 1, 1, 0]\n",
      "[1, 1, 0, 0, 1, 1, 1, 0]---[0, 1, 0, 0, 1, 1, 1, 1]\n",
      "[0, 0, 0, 0, 0, 0, 0, 1]---[0, 1, 0, 1, 0, 0, 0, 0]\n",
      "[1, 1, 0, 1, 1, 0, 0, 1]---[0, 1, 0, 1, 0, 0, 0, 1]\n",
      "[1, 0, 0, 0, 0, 1, 1, 1]---[0, 1, 0, 1, 0, 0, 1, 0]\n",
      "[1, 1, 0, 1, 1, 1, 1, 0]---[0, 1, 0, 1, 0, 0, 1, 1]\n",
      "[1, 1, 0, 0, 1, 1, 1, 1]---[0, 1, 0, 1, 0, 1, 0, 0]\n",
      "[0, 0, 0, 1, 0, 1, 1, 0]---[0, 1, 0, 1, 0, 1, 0, 1]\n",
      "[1, 1, 1, 0, 0, 0, 1, 0]---[0, 1, 0, 1, 0, 1, 1, 0]\n",
      "[1, 0, 1, 1, 1, 1, 0, 0]---[0, 1, 0, 1, 0, 1, 1, 1]\n",
      "[1, 0, 0, 0, 0, 0, 0, 0]---[0, 1, 0, 1, 1, 0, 0, 0]\n",
      "[0, 0, 1, 1, 1, 1, 0, 0]---[0, 1, 0, 1, 1, 0, 0, 1]\n",
      "[1, 1, 0, 1, 1, 1, 1, 1]---[0, 1, 0, 1, 1, 0, 1, 0]\n",
      "[1, 1, 0, 1, 1, 0, 1, 1]---[0, 0, 1, 0, 0, 0, 0, 1]\n",
      "[1, 1, 1, 1, 0, 1, 1, 0]---[0, 0, 1, 0, 0, 0, 1, 0]\n",
      "[0, 0, 0, 0, 0, 0, 0, 0]---[0, 0, 1, 0, 0, 0, 1, 1]\n",
      "[0, 0, 0, 0, 1, 0, 1, 0]---[0, 0, 1, 0, 0, 1, 0, 0]\n",
      "[1, 0, 1, 0, 0, 0, 1, 0]---[0, 0, 1, 0, 0, 1, 0, 1]\n",
      "[1, 0, 1, 0, 1, 0, 0, 0]---[0, 0, 1, 0, 0, 1, 1, 0]\n",
      "[1, 0, 1, 1, 1, 0, 0, 0]---[0, 0, 1, 0, 0, 1, 1, 1]\n",
      "[0, 0, 0, 1, 1, 1, 1, 1]---[0, 0, 1, 0, 1, 0, 0, 0]\n",
      "[1, 1, 0, 1, 1, 1, 0, 0]---[0, 0, 1, 0, 1, 0, 0, 1]\n",
      "[1, 1, 1, 0, 1, 0, 0, 0]---[0, 0, 1, 0, 1, 0, 1, 0]\n",
      "[1, 0, 0, 0, 1, 1, 0, 1]---[0, 0, 1, 0, 1, 0, 1, 1]\n",
      "[1, 0, 1, 1, 1, 1, 0, 1]---[0, 0, 1, 0, 1, 1, 0, 0]\n",
      "[1, 1, 1, 0, 0, 1, 1, 1]---[0, 0, 1, 0, 1, 1, 0, 1]\n",
      "[1, 0, 1, 1, 0, 0, 1, 0]---[0, 0, 1, 0, 1, 1, 1, 0]\n",
      "[1, 0, 0, 1, 0, 1, 0, 1]---[0, 0, 1, 0, 1, 1, 1, 1]\n",
      "[0, 0, 1, 0, 0, 1, 0, 0]---[0, 0, 1, 1, 1, 0, 1, 0]\n",
      "[1, 1, 0, 0, 0, 1, 1, 0]---[0, 0, 1, 1, 1, 0, 1, 1]\n",
      "[1, 0, 0, 1, 0, 1, 1, 1]---[0, 0, 1, 1, 1, 1, 0, 0]\n",
      "[0, 0, 0, 1, 0, 1, 0, 1]---[0, 0, 1, 1, 1, 1, 0, 1]\n",
      "[1, 0, 1, 0, 0, 0, 1, 0]---[0, 0, 1, 1, 1, 1, 1, 0]\n",
      "[1, 1, 0, 1, 0, 0, 1, 0]---[0, 0, 1, 1, 1, 1, 1, 1]\n",
      "[1, 1, 0, 0, 1, 1, 1, 0]---[0, 1, 0, 0, 0, 0, 0, 0]\n",
      "[1, 1, 0, 0, 0, 0, 0, 0]---[0, 1, 0, 1, 1, 0, 1, 1]\n",
      "[0, 0, 1, 1, 1, 1, 1, 1]---[0, 1, 0, 1, 1, 1, 0, 0]\n",
      "[1, 0, 1, 0, 0, 0, 1, 0]---[0, 1, 0, 1, 1, 1, 0, 1]\n",
      "[1, 1, 1, 0, 1, 0, 1, 0]---[0, 1, 0, 1, 1, 1, 1, 0]\n",
      "[1, 1, 0, 0, 0, 0, 1, 1]---[0, 1, 0, 1, 1, 1, 1, 1]\n",
      "[1, 1, 0, 0, 0, 1, 0, 0]---[0, 1, 1, 0, 0, 0, 0, 0]\n",
      "[1, 1, 0, 1, 1, 0, 0, 0]---[0, 1, 1, 1, 1, 0, 1, 1]\n",
      "[1, 0, 1, 1, 0, 1, 0, 0]---[0, 1, 1, 1, 1, 1, 0, 0]\n",
      "[1, 1, 0, 1, 1, 0, 1, 0]---[0, 1, 1, 1, 1, 1, 0, 1]\n",
      "[1, 0, 1, 1, 1, 1, 1, 0]---[0, 1, 1, 1, 1, 1, 1, 0]\n",
      "[1, 0, 0, 1, 1, 1, 0, 0]---[0, 0, 1, 0, 0, 0, 0, 0]\n",
      "[1, 1, 1, 0, 0, 1, 0, 0]---[0, 0, 0, 0, 1, 0, 0, 1]\n",
      "[1, 0, 0, 0, 0, 1, 1, 0]---[0, 0, 0, 0, 1, 0, 1, 0]\n",
      "[1, 0, 1, 1, 0, 1, 1, 1]---[0, 0, 0, 0, 1, 1, 0, 1]\n",
      "[0, 0, 0, 1, 0, 1, 0, 0]---[0, 0, 0, 0, 1, 0, 1, 1]\n",
      "[1, 0, 0, 0, 1, 0, 0, 0]---[0, 0, 0, 0, 1, 1, 0, 0]\n"
     ]
    },
    {
     "data": {
      "text/plain": [
       "80"
      ]
     },
     "execution_count": 693,
     "metadata": {},
     "output_type": "execute_result"
    }
   ],
   "source": [
    "n = list()\n",
    "for i in range(100):\n",
    "    n.append(predict(reverse_network, k[i], 0))\n",
    "    p = predict(reverse_network, k[i], 0)\n",
    "    if p == k[i][-1]:\n",
    "        print(p, end=\"---\")\n",
    "        print(k[i][-1])\n",
    "    else:\n",
    "        print(p, end=\"---\")\n",
    "        print(k[i][-1])\n",
    "c = list()\n",
    "for i in n:\n",
    "    s = \"\"\n",
    "    i = list(map(str,i))\n",
    "    c.append(s.join(i))\n",
    "len(list( dict.fromkeys(c)))"
   ]
  },
  {
   "cell_type": "code",
   "execution_count": 694,
   "metadata": {},
   "outputs": [
    {
     "data": {
      "text/plain": [
       "[[1, 1, 0, 1, 1, 1, 0, 1, [0, 0, 1, 1, 0, 0, 0, 0]],\n",
       " [1, 1, 0, 0, 1, 1, 1, 0, [0, 0, 1, 1, 0, 0, 0, 1]],\n",
       " [1, 1, 0, 0, 0, 1, 1, 0, [0, 0, 1, 1, 0, 0, 1, 0]],\n",
       " [1, 0, 1, 1, 1, 1, 1, 0, [0, 0, 1, 1, 0, 0, 1, 1]],\n",
       " [1, 0, 1, 0, 0, 1, 1, 0, [0, 0, 1, 1, 0, 1, 0, 0]],\n",
       " [0, 0, 0, 0, 0, 1, 1, 0, [0, 0, 1, 1, 0, 1, 0, 1]],\n",
       " [1, 0, 0, 1, 0, 1, 1, 0, [0, 0, 1, 1, 0, 1, 1, 0]],\n",
       " [1, 0, 0, 0, 0, 1, 1, 0, [0, 0, 1, 1, 0, 1, 1, 1]],\n",
       " [1, 1, 0, 0, 1, 0, 1, 0, [0, 0, 1, 1, 1, 0, 0, 0]],\n",
       " [0, 0, 0, 1, 1, 1, 0, 0, [0, 0, 1, 1, 1, 0, 0, 1]],\n",
       " [1, 0, 1, 0, 1, 0, 1, 0, [0, 1, 1, 0, 0, 0, 0, 1]],\n",
       " [1, 0, 0, 1, 0, 1, 1, 1, [0, 1, 1, 0, 0, 0, 1, 0]],\n",
       " [1, 0, 0, 0, 1, 1, 0, 1, [0, 1, 1, 0, 0, 0, 1, 1]],\n",
       " [1, 0, 1, 1, 0, 1, 0, 0, [0, 1, 1, 0, 0, 1, 0, 0]],\n",
       " [1, 0, 0, 1, 1, 0, 0, 1, [0, 1, 1, 0, 0, 1, 0, 1]],\n",
       " [1, 0, 0, 0, 0, 0, 1, 1, [0, 1, 1, 0, 0, 1, 1, 0]],\n",
       " [1, 0, 0, 1, 1, 1, 0, 0, [0, 1, 1, 0, 0, 1, 1, 1]],\n",
       " [1, 1, 0, 1, 1, 1, 0, 0, [0, 1, 1, 0, 1, 0, 0, 0]],\n",
       " [1, 0, 1, 0, 0, 0, 0, 1, [0, 1, 1, 0, 1, 0, 0, 1]],\n",
       " [1, 0, 0, 0, 0, 0, 0, 0, [0, 1, 1, 0, 1, 0, 1, 0]],\n",
       " [1, 1, 0, 1, 0, 0, 1, 0, [0, 1, 1, 0, 1, 0, 1, 1]],\n",
       " [1, 1, 1, 1, 0, 1, 0, 1, [0, 1, 1, 0, 1, 1, 0, 0]],\n",
       " [1, 1, 0, 1, 0, 1, 0, 1, [0, 1, 1, 0, 1, 1, 0, 1]],\n",
       " [0, 0, 0, 1, 1, 0, 0, 0, [0, 1, 1, 0, 1, 1, 1, 0]],\n",
       " [1, 1, 0, 1, 0, 0, 0, 1, [0, 1, 1, 0, 1, 1, 1, 1]],\n",
       " [1, 0, 1, 1, 1, 1, 1, 1, [0, 1, 1, 1, 0, 0, 0, 0]],\n",
       " [1, 1, 1, 1, 0, 0, 0, 1, [0, 1, 1, 1, 0, 0, 0, 1]],\n",
       " [1, 0, 0, 1, 0, 1, 0, 1, [0, 1, 1, 1, 0, 0, 1, 0]],\n",
       " [0, 0, 0, 1, 0, 1, 1, 0, [0, 1, 1, 1, 0, 0, 1, 1]],\n",
       " [1, 1, 1, 0, 0, 1, 1, 0, [0, 1, 1, 1, 0, 1, 0, 0]],\n",
       " [1, 1, 1, 1, 1, 1, 0, 1, [0, 1, 1, 1, 0, 1, 0, 1]],\n",
       " [1, 0, 1, 1, 1, 0, 0, 0, [0, 1, 1, 1, 0, 1, 1, 0]],\n",
       " [1, 0, 1, 1, 0, 1, 0, 1, [0, 1, 1, 1, 0, 1, 1, 1]],\n",
       " [1, 1, 1, 0, 0, 0, 0, 1, [0, 1, 1, 1, 1, 0, 0, 0]],\n",
       " [1, 0, 0, 1, 1, 0, 0, 0, [0, 1, 1, 1, 1, 0, 0, 1]],\n",
       " [1, 0, 0, 0, 1, 1, 0, 0, [0, 1, 1, 1, 1, 0, 1, 0]],\n",
       " [0, 0, 0, 0, 1, 0, 1, 0, [0, 1, 0, 0, 0, 0, 0, 1]],\n",
       " [0, 1, 1, 1, 1, 1, 1, 1, [0, 1, 0, 0, 0, 0, 1, 0]],\n",
       " [1, 0, 0, 0, 1, 1, 1, 0, [0, 1, 0, 0, 0, 0, 1, 1]],\n",
       " [1, 1, 1, 1, 1, 0, 1, 0, [0, 1, 0, 0, 0, 1, 0, 0]],\n",
       " [0, 0, 0, 0, 1, 1, 1, 0, [0, 1, 0, 0, 0, 1, 0, 1]],\n",
       " [1, 1, 1, 1, 1, 0, 0, 0, [0, 1, 0, 0, 0, 1, 1, 0]],\n",
       " [1, 0, 0, 0, 1, 0, 0, 0, [0, 1, 0, 0, 0, 1, 1, 1]],\n",
       " [0, 0, 0, 0, 0, 0, 0, 1, [0, 1, 0, 0, 1, 0, 0, 0]],\n",
       " [1, 1, 0, 0, 0, 1, 0, 0, [0, 1, 0, 0, 1, 0, 0, 1]],\n",
       " [0, 0, 0, 0, 1, 1, 1, 1, [0, 1, 0, 0, 1, 0, 1, 0]],\n",
       " [1, 0, 1, 0, 1, 0, 0, 0, [0, 1, 0, 0, 1, 0, 1, 1]],\n",
       " [1, 1, 0, 1, 0, 1, 1, 1, [0, 1, 0, 0, 1, 1, 0, 0]],\n",
       " [1, 1, 0, 1, 1, 0, 0, 1, [0, 1, 0, 0, 1, 1, 0, 1]],\n",
       " [1, 1, 1, 0, 0, 0, 0, 0, [0, 1, 0, 0, 1, 1, 1, 0]],\n",
       " [0, 0, 0, 1, 0, 1, 0, 1, [0, 1, 0, 0, 1, 1, 1, 1]],\n",
       " [1, 1, 0, 0, 1, 0, 0, 0, [0, 1, 0, 1, 0, 0, 0, 0]],\n",
       " [1, 1, 0, 0, 1, 1, 0, 1, [0, 1, 0, 1, 0, 0, 0, 1]],\n",
       " [1, 0, 1, 1, 1, 0, 1, 0, [0, 1, 0, 1, 0, 0, 1, 0]],\n",
       " [1, 0, 0, 1, 0, 0, 0, 0, [0, 1, 0, 1, 0, 0, 1, 1]],\n",
       " [1, 0, 1, 1, 1, 1, 0, 1, [0, 1, 0, 1, 0, 1, 0, 0]],\n",
       " [1, 1, 1, 1, 0, 0, 1, 1, [0, 1, 0, 1, 0, 1, 0, 1]],\n",
       " [1, 0, 1, 1, 1, 1, 0, 0, [0, 1, 0, 1, 0, 1, 1, 0]],\n",
       " [1, 1, 0, 1, 0, 1, 1, 0, [0, 1, 0, 1, 0, 1, 1, 1]],\n",
       " [1, 1, 1, 0, 1, 0, 1, 0, [0, 1, 0, 1, 1, 0, 0, 0]],\n",
       " [0, 0, 0, 1, 1, 1, 0, 1, [0, 1, 0, 1, 1, 0, 0, 1]],\n",
       " [1, 1, 0, 1, 1, 0, 1, 1, [0, 1, 0, 1, 1, 0, 1, 0]],\n",
       " [1, 1, 0, 1, 1, 0, 1, 0, [0, 0, 1, 0, 0, 0, 0, 1]],\n",
       " [0, 0, 0, 1, 0, 1, 0, 0, [0, 0, 1, 0, 0, 0, 1, 0]],\n",
       " [1, 0, 1, 0, 0, 1, 0, 0, [0, 0, 1, 0, 0, 0, 1, 1]],\n",
       " [0, 0, 0, 0, 0, 0, 0, 0, [0, 0, 1, 0, 0, 1, 0, 0]],\n",
       " [1, 0, 0, 0, 1, 0, 1, 1, [0, 0, 1, 0, 0, 1, 0, 1]],\n",
       " [1, 1, 0, 0, 1, 0, 1, 1, [0, 0, 1, 0, 0, 1, 1, 0]],\n",
       " [1, 1, 1, 1, 0, 1, 1, 0, [0, 0, 1, 0, 0, 1, 1, 1]],\n",
       " [0, 0, 0, 0, 0, 0, 1, 0, [0, 0, 1, 0, 1, 0, 0, 0]],\n",
       " [1, 1, 1, 0, 1, 0, 0, 0, [0, 0, 1, 0, 1, 0, 0, 1]],\n",
       " [1, 0, 1, 0, 1, 0, 0, 1, [0, 0, 1, 0, 1, 0, 1, 0]],\n",
       " [1, 1, 1, 0, 0, 0, 1, 1, [0, 0, 1, 0, 1, 0, 1, 1]],\n",
       " [1, 1, 0, 1, 0, 1, 0, 0, [0, 0, 1, 0, 1, 1, 0, 0]],\n",
       " [1, 0, 1, 0, 0, 0, 0, 0, [0, 0, 1, 0, 1, 1, 0, 1]],\n",
       " [0, 0, 0, 1, 0, 0, 1, 1, [0, 0, 1, 0, 1, 1, 1, 0]],\n",
       " [1, 1, 1, 1, 0, 0, 1, 0, [0, 0, 1, 0, 1, 1, 1, 1]],\n",
       " [1, 0, 0, 0, 0, 1, 1, 1, [0, 0, 1, 1, 1, 0, 1, 0]],\n",
       " [1, 0, 1, 1, 0, 0, 1, 0, [0, 0, 1, 1, 1, 0, 1, 1]],\n",
       " [1, 1, 1, 0, 0, 0, 1, 0, [0, 0, 1, 1, 1, 1, 0, 0]],\n",
       " [1, 1, 0, 0, 1, 1, 1, 1, [0, 0, 1, 1, 1, 1, 0, 1]],\n",
       " [0, 0, 0, 1, 1, 1, 1, 1, [0, 0, 1, 1, 1, 1, 1, 0]],\n",
       " [1, 1, 1, 0, 1, 0, 1, 1, [0, 0, 1, 1, 1, 1, 1, 1]],\n",
       " [1, 1, 0, 0, 0, 0, 1, 1, [0, 1, 0, 0, 0, 0, 0, 0]],\n",
       " [1, 1, 0, 1, 1, 1, 1, 1, [0, 1, 0, 1, 1, 0, 1, 1]],\n",
       " [1, 1, 0, 0, 0, 0, 1, 0, [0, 1, 0, 1, 1, 1, 0, 0]],\n",
       " [1, 0, 0, 0, 1, 1, 1, 1, [0, 1, 0, 1, 1, 1, 0, 1]],\n",
       " [1, 1, 0, 1, 1, 0, 0, 0, [0, 1, 0, 1, 1, 1, 1, 0]],\n",
       " [1, 1, 0, 0, 0, 0, 0, 0, [0, 1, 0, 1, 1, 1, 1, 1]],\n",
       " [1, 1, 0, 0, 1, 0, 0, 1, [0, 1, 1, 0, 0, 0, 0, 0]],\n",
       " [1, 1, 0, 1, 1, 1, 1, 0, [0, 1, 1, 1, 1, 0, 1, 1]],\n",
       " [1, 1, 1, 0, 0, 1, 0, 0, [0, 1, 1, 1, 1, 1, 0, 0]],\n",
       " [0, 0, 0, 1, 1, 1, 1, 0, [0, 1, 1, 1, 1, 1, 0, 1]],\n",
       " [1, 0, 1, 1, 0, 0, 1, 1, [0, 1, 1, 1, 1, 1, 1, 0]],\n",
       " [1, 1, 1, 0, 0, 1, 1, 1, [0, 0, 1, 0, 0, 0, 0, 0]],\n",
       " [1, 1, 1, 1, 1, 1, 0, 0, [0, 0, 0, 0, 1, 0, 0, 1]],\n",
       " [1, 0, 1, 1, 0, 1, 1, 1, [0, 0, 0, 0, 1, 0, 1, 0]],\n",
       " [1, 0, 0, 0, 1, 0, 1, 0, [0, 0, 0, 0, 1, 1, 0, 1]],\n",
       " [1, 0, 1, 0, 0, 0, 1, 0, [0, 0, 0, 0, 1, 0, 1, 1]],\n",
       " [0, 0, 0, 0, 0, 0, 1, 1, [0, 0, 0, 0, 1, 1, 0, 0]]]"
      ]
     },
     "execution_count": 694,
     "metadata": {},
     "output_type": "execute_result"
    }
   ],
   "source": [
    "k"
   ]
  },
  {
   "cell_type": "code",
   "execution_count": null,
   "metadata": {},
   "outputs": [],
   "source": []
  }
 ],
 "metadata": {
  "kernelspec": {
   "display_name": "Python 3",
   "language": "python",
   "name": "python3"
  },
  "language_info": {
   "codemirror_mode": {
    "name": "ipython",
    "version": 3
   },
   "file_extension": ".py",
   "mimetype": "text/x-python",
   "name": "python",
   "nbconvert_exporter": "python",
   "pygments_lexer": "ipython3",
   "version": "3.6.8"
  }
 },
 "nbformat": 4,
 "nbformat_minor": 4
}
